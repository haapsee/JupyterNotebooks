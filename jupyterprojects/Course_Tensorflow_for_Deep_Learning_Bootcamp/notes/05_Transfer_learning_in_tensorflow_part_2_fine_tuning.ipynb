{
 "cells": [
  {
   "cell_type": "markdown",
   "id": "98b1a3ff-d18b-41cb-92d6-ddb6a0d1f04b",
   "metadata": {},
   "source": [
    "# 05. Transfer learning in TensorFlow part 2: fine-tuning\n",
    "\n",
    "In the previous notebook, we discovered transfer learning feature extraction, now it's time to learn about a new kind of transfer learning: fine-tuning"
   ]
  },
  {
   "cell_type": "code",
   "execution_count": 2,
   "id": "ff1a554f-2b4f-4b15-8581-05b2e28f5e0d",
   "metadata": {},
   "outputs": [
    {
     "name": "stdout",
     "output_type": "stream",
     "text": [
      "Fri Oct 25 10:16:16 2024       \n",
      "+-----------------------------------------------------------------------------------------+\n",
      "| NVIDIA-SMI 555.42.06              Driver Version: 555.42.06      CUDA Version: 12.5     |\n",
      "|-----------------------------------------+------------------------+----------------------+\n",
      "| GPU  Name                 Persistence-M | Bus-Id          Disp.A | Volatile Uncorr. ECC |\n",
      "| Fan  Temp   Perf          Pwr:Usage/Cap |           Memory-Usage | GPU-Util  Compute M. |\n",
      "|                                         |                        |               MIG M. |\n",
      "|=========================================+========================+======================|\n",
      "|   0  NVIDIA GeForce RTX 2060        Off |   00000000:01:00.0  On |                  N/A |\n",
      "| 26%   54C    P0             36W /  170W |     500MiB /   6144MiB |      0%      Default |\n",
      "|                                         |                        |                  N/A |\n",
      "+-----------------------------------------+------------------------+----------------------+\n",
      "                                                                                         \n",
      "+-----------------------------------------------------------------------------------------+\n",
      "| Processes:                                                                              |\n",
      "|  GPU   GI   CI        PID   Type   Process name                              GPU Memory |\n",
      "|        ID   ID                                                               Usage      |\n",
      "|=========================================================================================|\n",
      "+-----------------------------------------------------------------------------------------+\n"
     ]
    }
   ],
   "source": [
    "# Check gpu\n",
    "!nvidia-smi"
   ]
  },
  {
   "cell_type": "markdown",
   "id": "ea88e257-b79c-4dff-9c04-994f1b65f48c",
   "metadata": {},
   "source": [
    "## 1. Creating helper functions\n",
    "\n",
    "In previous notebooks, we've discovered bunch of helper functions, now we could rewrite them all however, this is tedious.\n",
    "\n",
    "So it's a good idea to put functions you'll want to use again in a script you can download and import into your notebooks (or  wlsewhere).\n",
    "\n",
    "We've done this for some of the functions we've used previousle here: https://raw.githubusercontent.com/mrdbourke/tensorflow-deep-learning/refs/heads/main/extras/helper_functions.py"
   ]
  },
  {
   "cell_type": "code",
   "execution_count": 4,
   "id": "2440a202-0290-4e3a-aa99-d02e0b71050b",
   "metadata": {},
   "outputs": [
    {
     "name": "stdout",
     "output_type": "stream",
     "text": [
      "--2024-10-25 10:19:22--  https://raw.githubusercontent.com/mrdbourke/tensorflow-deep-learning/refs/heads/main/extras/helper_functions.py\n",
      "Resolving raw.githubusercontent.com (raw.githubusercontent.com)... 185.199.110.133, 185.199.109.133, 185.199.111.133, ...\n",
      "Connecting to raw.githubusercontent.com (raw.githubusercontent.com)|185.199.110.133|:443... connected.\n",
      "HTTP request sent, awaiting response... 200 OK\n",
      "Length: 10246 (10K) [text/plain]\n",
      "Saving to: ‘helper_functions.py’\n",
      "\n",
      "helper_functions.py 100%[===================>]  10.01K  --.-KB/s    in 0s      \n",
      "\n",
      "2024-10-25 10:19:22 (38.8 MB/s) - ‘helper_functions.py’ saved [10246/10246]\n",
      "\n"
     ]
    }
   ],
   "source": [
    "!rm -rf helper_functions.py\n",
    "!wget https://raw.githubusercontent.com/mrdbourke/tensorflow-deep-learning/refs/heads/main/extras/helper_functions.py"
   ]
  },
  {
   "cell_type": "code",
   "execution_count": 5,
   "id": "ae33a1ba-fbc5-456c-80be-0ea3634b048c",
   "metadata": {},
   "outputs": [],
   "source": [
    "# Import helper functions we're going to use i this notebook\n",
    "from helper_functions import create_tensorboard_callback, plot_loss_curves, unzip_data, walk_through_dir"
   ]
  },
  {
   "cell_type": "markdown",
   "id": "b7e056c8-c576-4217-96e4-26191be6bc77",
   "metadata": {},
   "source": [
    "> **Note:** If you're running this notebook in Google Colab, when it times out Colab will delete `helper_functions.py`, so you'll have to redownload it if you want access to your helper functions."
   ]
  },
  {
   "cell_type": "markdown",
   "id": "5e01543e-4a93-4eaf-a349-6ddeb2b7f6b5",
   "metadata": {},
   "source": [
    "## 2. Let's get some data\n",
    "\n",
    "This time we're going to see how we can use the pretrained models within `tf.keras.applications` and apply them to our own problem (recognizing images of food).\n",
    "\n",
    "link: https://www.tensorflow.org/api_docs/python/tf/keras/applications"
   ]
  },
  {
   "cell_type": "code",
   "execution_count": 6,
   "id": "f977d117-af39-4deb-83ac-f8712354e76b",
   "metadata": {},
   "outputs": [
    {
     "name": "stdout",
     "output_type": "stream",
     "text": [
      "--2024-10-25 10:27:28--  https://storage.googleapis.com/ztm_tf_course/food_vision/10_food_classes_10_percent.zip\n",
      "Resolving storage.googleapis.com (storage.googleapis.com)... 216.58.210.187, 216.58.211.251, 216.58.209.219, ...\n",
      "Connecting to storage.googleapis.com (storage.googleapis.com)|216.58.210.187|:443... connected.\n",
      "HTTP request sent, awaiting response... 200 OK\n",
      "Length: 168546183 (161M) [application/zip]\n",
      "Saving to: ‘10_food_classes_10_percent.zip’\n",
      "\n",
      "10_food_classes_10_ 100%[===================>] 160.74M  35.1MB/s    in 5.5s    \n",
      "\n",
      "2024-10-25 10:27:34 (29.3 MB/s) - ‘10_food_classes_10_percent.zip’ saved [168546183/168546183]\n",
      "\n"
     ]
    }
   ],
   "source": [
    "# Get 10% of training data of 10 classes of Food101\n",
    "!rm -rf 10_food_classes_10_percent*\n",
    "!wget https://storage.googleapis.com/ztm_tf_course/food_vision/10_food_classes_10_percent.zip\n",
    "\n",
    "unzip_data(\"10_food_classes_10_percent.zip\")\n",
    "!rm -rf 10_food_classes_10_percent.zip"
   ]
  },
  {
   "cell_type": "code",
   "execution_count": 7,
   "id": "6a0b7159-f846-4586-b29f-3e91056a0a28",
   "metadata": {},
   "outputs": [
    {
     "name": "stdout",
     "output_type": "stream",
     "text": [
      "There are 2 directories and 0 images in '10_food_classes_10_percent'.\n",
      "There are 10 directories and 0 images in '10_food_classes_10_percent/train'.\n",
      "There are 0 directories and 75 images in '10_food_classes_10_percent/train/chicken_wings'.\n",
      "There are 0 directories and 75 images in '10_food_classes_10_percent/train/chicken_curry'.\n",
      "There are 0 directories and 75 images in '10_food_classes_10_percent/train/ramen'.\n",
      "There are 0 directories and 75 images in '10_food_classes_10_percent/train/steak'.\n",
      "There are 0 directories and 75 images in '10_food_classes_10_percent/train/pizza'.\n",
      "There are 0 directories and 75 images in '10_food_classes_10_percent/train/grilled_salmon'.\n",
      "There are 0 directories and 75 images in '10_food_classes_10_percent/train/fried_rice'.\n",
      "There are 0 directories and 75 images in '10_food_classes_10_percent/train/ice_cream'.\n",
      "There are 0 directories and 75 images in '10_food_classes_10_percent/train/hamburger'.\n",
      "There are 0 directories and 75 images in '10_food_classes_10_percent/train/sushi'.\n",
      "There are 10 directories and 0 images in '10_food_classes_10_percent/test'.\n",
      "There are 0 directories and 250 images in '10_food_classes_10_percent/test/chicken_wings'.\n",
      "There are 0 directories and 250 images in '10_food_classes_10_percent/test/chicken_curry'.\n",
      "There are 0 directories and 250 images in '10_food_classes_10_percent/test/ramen'.\n",
      "There are 0 directories and 250 images in '10_food_classes_10_percent/test/steak'.\n",
      "There are 0 directories and 250 images in '10_food_classes_10_percent/test/pizza'.\n",
      "There are 0 directories and 250 images in '10_food_classes_10_percent/test/grilled_salmon'.\n",
      "There are 0 directories and 250 images in '10_food_classes_10_percent/test/fried_rice'.\n",
      "There are 0 directories and 250 images in '10_food_classes_10_percent/test/ice_cream'.\n",
      "There are 0 directories and 250 images in '10_food_classes_10_percent/test/hamburger'.\n",
      "There are 0 directories and 250 images in '10_food_classes_10_percent/test/sushi'.\n"
     ]
    }
   ],
   "source": [
    "# Check out how many images and subdirectories are inoour dataset\n",
    "walk_through_dir(\"10_food_classes_10_percent\")"
   ]
  },
  {
   "cell_type": "code",
   "execution_count": 12,
   "id": "7dc7e1aa-057f-46d7-80f4-f0e2f1bf6d41",
   "metadata": {},
   "outputs": [],
   "source": [
    "# Create training and test direcotry paths\n",
    "train_dir = \"10_food_classes_10_percent/train\"\n",
    "test_dir = \"10_food_classes_10_percent/test\"\n",
    "\n",
    "IMAGE_SIZE = (224, 224)\n",
    "BATCH_SIZE = 32"
   ]
  },
  {
   "cell_type": "code",
   "execution_count": 13,
   "id": "ea04f5a4-68a6-42e8-8046-6fcd1d7b9440",
   "metadata": {},
   "outputs": [],
   "source": [
    "import tensorflow as tf"
   ]
  },
  {
   "cell_type": "code",
   "execution_count": 15,
   "id": "476ecc78-669c-46ad-81b8-12721f5e6827",
   "metadata": {},
   "outputs": [
    {
     "name": "stdout",
     "output_type": "stream",
     "text": [
      "Found 750 files belonging to 10 classes.\n",
      "Found 2500 files belonging to 10 classes.\n"
     ]
    }
   ],
   "source": [
    "train_data_10_percent = tf.keras.preprocessing.image_dataset_from_directory(\n",
    "    train_dir,\n",
    "    image_size=IMAGE_SIZE,\n",
    "    label_mode=\"categorical\",\n",
    "    batch_size=BATCH_SIZE\n",
    ")\n",
    "test_data = tf.keras.preprocessing.image_dataset_from_directory(\n",
    "    test_dir,\n",
    "    image_size=IMAGE_SIZE,\n",
    "    label_mode=\"categorical\",\n",
    "    batch_size=BATCH_SIZE\n",
    ")"
   ]
  },
  {
   "cell_type": "code",
   "execution_count": 16,
   "id": "17e74283-6d6f-401f-ace1-ae8d7dfe937b",
   "metadata": {},
   "outputs": [
    {
     "data": {
      "text/plain": [
       "['chicken_curry',\n",
       " 'chicken_wings',\n",
       " 'fried_rice',\n",
       " 'grilled_salmon',\n",
       " 'hamburger',\n",
       " 'ice_cream',\n",
       " 'pizza',\n",
       " 'ramen',\n",
       " 'steak',\n",
       " 'sushi']"
      ]
     },
     "execution_count": 16,
     "metadata": {},
     "output_type": "execute_result"
    }
   ],
   "source": [
    "# Check out the class names\n",
    "train_data_10_percent.class_names"
   ]
  },
  {
   "cell_type": "markdown",
   "id": "5e20cf29-5ab0-4455-9e4f-0d7206b482fa",
   "metadata": {},
   "source": [
    "## 3. Creating model using Functional API\n",
    "\n",
    "The sequential API is straight-foward, it runs our layers in sequential order.\n",
    "\n",
    "But the functional API gives us more flexibility with our models - https://www.tensorflow.org/guide/keras/functional_api"
   ]
  },
  {
   "cell_type": "code",
   "execution_count": 22,
   "id": "217c670a-f7e6-4cc5-b779-5b61796d1211",
   "metadata": {},
   "outputs": [
    {
     "name": "stdout",
     "output_type": "stream",
     "text": [
      "Downloading data from https://storage.googleapis.com/tensorflow/keras-applications/efficientnet_v2/efficientnetv2-b0_notop.h5\n",
      "24274472/24274472 [==============================] - 1s 0us/step\n",
      "Shape after passing inputs through base model: (None, 7, 7, 1280)\n",
      "Shape after global average pooling: (None, 1280)\n",
      "Saving TensorBoard log files to: transfer_learning/10_percent_feature_extraction/20241025-105923\n",
      "Epoch 1/5\n",
      "24/24 [==============================] - 11s 144ms/step - loss: 1.9576 - accuracy: 0.3800 - val_loss: 1.4021 - val_accuracy: 0.6875\n",
      "Epoch 2/5\n",
      "24/24 [==============================] - 2s 74ms/step - loss: 1.1874 - accuracy: 0.7347 - val_loss: 0.9503 - val_accuracy: 0.7977\n",
      "Epoch 3/5\n",
      "24/24 [==============================] - 2s 74ms/step - loss: 0.8612 - accuracy: 0.8067 - val_loss: 0.7738 - val_accuracy: 0.8339\n",
      "Epoch 4/5\n",
      "24/24 [==============================] - 2s 74ms/step - loss: 0.7062 - accuracy: 0.8413 - val_loss: 0.6879 - val_accuracy: 0.8306\n",
      "Epoch 5/5\n",
      "24/24 [==============================] - 2s 74ms/step - loss: 0.5981 - accuracy: 0.8640 - val_loss: 0.6131 - val_accuracy: 0.8421\n"
     ]
    }
   ],
   "source": [
    "# 1. Create base model using tf.keras.applications\n",
    "base_model = tf.keras.applications.efficientnet_v2.EfficientNetV2B0(include_top=False)\n",
    "\n",
    "# 2. Freeze the base model (so the underlying pre-trained patterns aren't updated during training)\n",
    "base_model.trainable = False\n",
    "\n",
    "# 3. Create inputs into our model\n",
    "inputs = tf.keras.layers.Input(\n",
    "    shape = IMAGE_SIZE+(3,),\n",
    "    name  = \"input_layer\"\n",
    ")\n",
    "\n",
    "# 4. If using ResNet50V2 you will need to normalize inputs\n",
    "# x = tf.keras.layers.experimental.preprocessing.Rescaling(1./255)(inputs)\n",
    "\n",
    "# 5. Pass the inputs to the base_model\n",
    "x = base_model(inputs)\n",
    "print(f\"Shape after passing inputs through base model: {x.shape}\")\n",
    "\n",
    "# 6. Average pool the outputs of the base model (aggregate all the mose important information, reduce number of computations)\n",
    "x = tf.keras.layers.GlobalAveragePooling2D(name=\"global_average_pooling_layer\")(x)\n",
    "print(f\"Shape after global average pooling: {x.shape}\")\n",
    "\n",
    "# 7. Create the output activation layer\n",
    "outputs = tf.keras.layers.Dense(10, activation=\"softmax\", name=\"output_layer\")(x)\n",
    "\n",
    "# 8. Combine the inputs with the outputs into a model\n",
    "model_0 = tf.keras.Model(inputs, outputs)\n",
    "\n",
    "# 9. Compile the model\n",
    "model_0.compile(\n",
    "    loss=\"categorical_crossentropy\",\n",
    "    optimizer=tf.keras.optimizers.Adam(),\n",
    "    metrics=[\"accuracy\"]\n",
    ")\n",
    "\n",
    "# 10. Fit the model and save its history\n",
    "model_0_his = model_0.fit(\n",
    "    train_data_10_percent,\n",
    "    epochs=5,\n",
    "    steps_per_epoch=len(train_data_10_percent),\n",
    "    validation_data=test_data,\n",
    "    validation_steps=int(0.25 * len(test_data)),\n",
    "    callbacks=[create_tensorboard_callback(\n",
    "        \"transfer_learning\",\n",
    "        \"10_percent_feature_extraction\"\n",
    "    )]\n",
    ")"
   ]
  },
  {
   "cell_type": "code",
   "execution_count": 23,
   "id": "03aa9eaa-cb48-4357-bed2-f7101c5fb566",
   "metadata": {},
   "outputs": [
    {
     "name": "stdout",
     "output_type": "stream",
     "text": [
      "79/79 [==============================] - 4s 45ms/step - loss: 0.5787 - accuracy: 0.8576\n"
     ]
    },
    {
     "data": {
      "text/plain": [
       "[0.5787246227264404, 0.8575999736785889]"
      ]
     },
     "execution_count": 23,
     "metadata": {},
     "output_type": "execute_result"
    }
   ],
   "source": [
    "# Evaluate on the full test dataset\n",
    "model_0.evaluate(test_data)"
   ]
  },
  {
   "cell_type": "code",
   "execution_count": 28,
   "id": "91e71704-e91a-493d-98bf-be72e3af6964",
   "metadata": {},
   "outputs": [],
   "source": [
    "# Check the layers in out base model\n",
    "# for layer_number, layer in enumerate(base_model.layers):\n",
    "#     print(f\"{layer_number} {layer.name}\")"
   ]
  },
  {
   "cell_type": "code",
   "execution_count": 29,
   "id": "ee8ff97f-388e-4598-88fb-592b3d3e496f",
   "metadata": {},
   "outputs": [],
   "source": [
    "# Let's get summary of the base model\n",
    "# base_model.summary()"
   ]
  },
  {
   "cell_type": "code",
   "execution_count": 30,
   "id": "f05ed6b4-35f4-44e5-8fd3-f69cbeccf2a5",
   "metadata": {},
   "outputs": [
    {
     "name": "stdout",
     "output_type": "stream",
     "text": [
      "Model: \"model\"\n",
      "_________________________________________________________________\n",
      " Layer (type)                Output Shape              Param #   \n",
      "=================================================================\n",
      " input_layer (InputLayer)    [(None, 224, 224, 3)]     0         \n",
      "                                                                 \n",
      " efficientnetv2-b0 (Functio  (None, None, None, 1280   5919312   \n",
      " nal)                        )                                   \n",
      "                                                                 \n",
      " global_average_pooling_lay  (None, 1280)              0         \n",
      " er (GlobalAveragePooling2D                                      \n",
      " )                                                               \n",
      "                                                                 \n",
      " output_layer (Dense)        (None, 10)                12810     \n",
      "                                                                 \n",
      "=================================================================\n",
      "Total params: 5932122 (22.63 MB)\n",
      "Trainable params: 12810 (50.04 KB)\n",
      "Non-trainable params: 5919312 (22.58 MB)\n",
      "_________________________________________________________________\n"
     ]
    }
   ],
   "source": [
    "# How about a summary of our whole model\n",
    "model_0.summary()"
   ]
  },
  {
   "cell_type": "code",
   "execution_count": 31,
   "id": "019ba86d-aab3-40ca-aa78-528d94d762cd",
   "metadata": {},
   "outputs": [
    {
     "data": {
      "image/png": "[encoded data removed]",
      "text/plain": [
       "<Figure size 640x480 with 1 Axes>"
      ]
     },
     "metadata": {},
     "output_type": "display_data"
    },
    {
     "data": {
      "image/png": "[encoded data removed]",
      "text/plain": [
       "<Figure size 640x480 with 1 Axes>"
      ]
     },
     "metadata": {},
     "output_type": "display_data"
    }
   ],
   "source": [
    "# Check out our model's training curves\n",
    "plot_loss_curves(model_0_his)"
   ]
  },
  {
   "cell_type": "markdown",
   "id": "734b13e6-0717-45b7-89b4-9daa4637c92f",
   "metadata": {},
   "source": [
    "## 4. Getting feature vector from a trained model\n",
    "\n",
    "Let's demonstrate the Global Avergae Pooling 2D layer\n",
    "\n",
    "We have a tensor after our model goes through `base_model` of shape (None, 7, 7, 1280).\n",
    "\n",
    "But then when it passes through GlobalAveragePooling2D, it turns into (None, 1280).\n",
    "\n",
    "Let's use a similar shaped tesnor of (1, 4, 4, 3) and then pass it to GlobalAveragePooling2D."
   ]
  },
  {
   "cell_type": "code",
   "execution_count": 36,
   "id": "dc6916d0-a138-4db4-b859-9b70ad41a872",
   "metadata": {},
   "outputs": [
    {
     "name": "stdout",
     "output_type": "stream",
     "text": [
      "Random tensor: [[[[ 0.3274685  -0.8426258   0.3194337 ]\n",
      "   [-1.4075519  -2.3880599  -1.0392479 ]\n",
      "   [-0.5573232   0.539707    1.6994323 ]\n",
      "   [ 0.28893656 -1.5066116  -0.2645474 ]]\n",
      "\n",
      "  [[-0.59722406 -1.9171132  -0.62044144]\n",
      "   [ 0.8504023  -0.40604794 -3.0258412 ]\n",
      "   [ 0.9058464   0.29855987 -0.22561555]\n",
      "   [-0.7616443  -1.8917141  -0.93847126]]\n",
      "\n",
      "  [[ 0.77852213 -0.47338894  0.97772694]\n",
      "   [ 0.24694404  0.20573746 -0.52562326]\n",
      "   [ 0.32410017  0.02545409 -0.10638496]\n",
      "   [-0.63694745  1.1603122   0.2507359 ]]\n",
      "\n",
      "  [[-0.41728503  0.4012578  -1.4145443 ]\n",
      "   [-0.5931857  -1.6617213   0.33567193]\n",
      "   [ 0.10815628  0.23479679 -0.56668764]\n",
      "   [-0.35819843  0.88698614  0.52744764]]]]\n",
      "2D global average pooled random tensor: [[-0.09368646 -0.45840448 -0.2885598 ]]\n",
      "Shape of input tensor: (1, 4, 4, 3)\n",
      "Shape of global avera tensor: (1, 3)\n"
     ]
    }
   ],
   "source": [
    "# Define the input shape\n",
    "input_shape = (1, 4, 4, 3)\n",
    "\n",
    "# Create random tensor\n",
    "tf.random.set_seed(42)\n",
    "input_tensor = tf.random.normal(input_shape)\n",
    "print(f\"Random tensor: {input_tensor}\")\n",
    "\n",
    "# Pass the random tensor through GlobalAveragePooling2D layer\n",
    "global_average_pooled_tensor = tf.keras.layers.GlobalAveragePooling2D()(input_tensor)\n",
    "print(f\"2D global average pooled random tensor: {global_average_pooled_tensor}\")\n",
    "\n",
    "print(f\"Shape of input tensor: {input_tensor.shape}\\nShape of global avera tensor: {global_average_pooled_tensor.shape}\")"
   ]
  },
  {
   "cell_type": "code",
   "execution_count": 37,
   "id": "9cdfb059-f8f1-4964-8ef8-6e5acf0ab488",
   "metadata": {},
   "outputs": [
    {
     "data": {
      "text/plain": [
       "<tf.Tensor: shape=(1, 3), dtype=float32, numpy=array([[-0.09368646, -0.45840448, -0.2885598 ]], dtype=float32)>"
      ]
     },
     "execution_count": 37,
     "metadata": {},
     "output_type": "execute_result"
    }
   ],
   "source": [
    "# Let's replicate the GlobalAveragePooling2D layer\n",
    "tf.reduce_mean(input_tensor, axis=[1,2])"
   ]
  },
  {
   "cell_type": "markdown",
   "id": "f34227ab-33d2-4712-a9fa-d96c9f662f98",
   "metadata": {},
   "source": [
    "## 5. Running a series of transfer learning experiments\n",
    "\n",
    "We've seen the incredible results transfer learning can get with only 10% of the training data, but how does it go with 1% of the training data... how about we set up a bunch of experiments to find out:\n",
    "\n",
    "1. `model_1` - use feature extraction transfer learning with 1% of the training data with data augmentation.\n",
    "2. `model_2` - use feature extraction transfer learning with 10% of training data with data augmentation.\n",
    "3. `model_3` - use fine-tuning transfer learning on 10% of the training data with data augmmentation.\n",
    "4. `model_4` - use fine-tuning transfer learning on 100% of the training data with data augmentation.\n",
    "\n",
    "> **Note:** throughout all experiments the same test dataset will be used to evaluate our model... this ensures consistency across evaluation metrics."
   ]
  },
  {
   "cell_type": "markdown",
   "id": "03e1de1f-8e97-43c1-b77a-69aa9fb5067a",
   "metadata": {},
   "source": [
    "### 5.1 Setup data"
   ]
  },
  {
   "cell_type": "code",
   "execution_count": 39,
   "id": "c8ee8442-3018-44c4-baab-2fd2a9a13876",
   "metadata": {},
   "outputs": [
    {
     "name": "stdout",
     "output_type": "stream",
     "text": [
      "--2024-10-25 11:29:08--  https://storage.googleapis.com/ztm_tf_course/food_vision/10_food_classes_1_percent.zip\n",
      "Resolving storage.googleapis.com (storage.googleapis.com)... 216.58.209.219, 216.58.210.187, 216.58.211.251, ...\n",
      "Connecting to storage.googleapis.com (storage.googleapis.com)|216.58.209.219|:443... connected.\n",
      "HTTP request sent, awaiting response... 200 OK\n",
      "Length: 133612354 (127M) [application/zip]\n",
      "Saving to: ‘10_food_classes_1_percent.zip’\n",
      "\n",
      "10_food_classes_1_p 100%[===================>] 127.42M  34.6MB/s    in 4.6s    \n",
      "\n",
      "2024-10-25 11:29:13 (27.9 MB/s) - ‘10_food_classes_1_percent.zip’ saved [133612354/133612354]\n",
      "\n",
      "--2024-10-25 11:29:14--  https://storage.googleapis.com/ztm_tf_course/food_vision/10_food_classes_10_percent.zip\n",
      "Resolving storage.googleapis.com (storage.googleapis.com)... 216.58.209.219, 216.58.210.187, 216.58.211.251, ...\n",
      "Connecting to storage.googleapis.com (storage.googleapis.com)|216.58.209.219|:443... connected.\n",
      "HTTP request sent, awaiting response... 200 OK\n",
      "Length: 168546183 (161M) [application/zip]\n",
      "Saving to: ‘10_food_classes_10_percent.zip’\n",
      "\n",
      "10_food_classes_10_ 100%[===================>] 160.74M  34.7MB/s    in 5.5s    \n",
      "\n",
      "2024-10-25 11:29:19 (29.3 MB/s) - ‘10_food_classes_10_percent.zip’ saved [168546183/168546183]\n",
      "\n",
      "--2024-10-25 11:29:19--  https://storage.googleapis.com/ztm_tf_course/food_vision/10_food_classes_all_data.zip\n",
      "Resolving storage.googleapis.com (storage.googleapis.com)... 216.58.209.187, 216.58.211.251, 216.58.210.187, ...\n",
      "Connecting to storage.googleapis.com (storage.googleapis.com)|216.58.209.187|:443... connected.\n",
      "HTTP request sent, awaiting response... 200 OK\n",
      "Length: 519183241 (495M) [application/zip]\n",
      "Saving to: ‘10_food_classes_all_data.zip’\n",
      "\n",
      "10_food_classes_all 100%[===================>] 495.13M  33.3MB/s    in 15s     \n",
      "\n",
      "2024-10-25 11:29:35 (32.0 MB/s) - ‘10_food_classes_all_data.zip’ saved [519183241/519183241]\n",
      "\n"
     ]
    }
   ],
   "source": [
    "# Download and unzip data\n",
    "!rm -rf 10_food_classes_1_percent*\n",
    "!rm -rf 10_food_classes_10_percent*\n",
    "!rm -rf 10_food_classes_all_data*\n",
    "\n",
    "!wget https://storage.googleapis.com/ztm_tf_course/food_vision/10_food_classes_1_percent.zip\n",
    "!wget https://storage.googleapis.com/ztm_tf_course/food_vision/10_food_classes_10_percent.zip\n",
    "!wget https://storage.googleapis.com/ztm_tf_course/food_vision/10_food_classes_all_data.zip\n",
    "\n",
    "unzip_data(\"10_food_classes_1_percent.zip\")\n",
    "unzip_data(\"10_food_classes_10_percent.zip\")\n",
    "unzip_data(\"10_food_classes_all_data.zip\")\n",
    "\n",
    "!rm -rf 10_food_classes_1_percent.zip\n",
    "!rm -rf 10_food_classes_10_percent.zip\n",
    "!rm -rf 10_food_classes_all_data.zip\n",
    "!rm -rf __MACOSX*"
   ]
  },
  {
   "cell_type": "code",
   "execution_count": 46,
   "id": "a69aeed6-aabb-46aa-ac5a-d3efd2532c37",
   "metadata": {},
   "outputs": [],
   "source": [
    "train_dir_1_percent = \"10_food_classes_1_percent/train\"\n",
    "train_dir_10_percent = \"10_food_classes_10_percent/train\"\n",
    "train_dir_all_data = \"10_food_classes_all_data/train\"\n",
    "test_dir = \"10_food_classes_all_data/test\""
   ]
  },
  {
   "cell_type": "code",
   "execution_count": 47,
   "id": "4076aa28-c671-4356-aac2-900dcfa55360",
   "metadata": {},
   "outputs": [
    {
     "name": "stdout",
     "output_type": "stream",
     "text": [
      "Found 70 files belonging to 10 classes.\n",
      "Found 750 files belonging to 10 classes.\n",
      "Found 7500 files belonging to 10 classes.\n",
      "Found 2500 files belonging to 10 classes.\n"
     ]
    }
   ],
   "source": [
    "# Setup data loaders\n",
    "IMG_SIZE = (224, 224)\n",
    "BATCH_SIZE = 32\n",
    "\n",
    "train_data_1_percent = tf.keras.preprocessing.image_dataset_from_directory(\n",
    "    train_dir_1_percent,\n",
    "    label_mode=\"categorical\",\n",
    "    batch_size=BATCH_SIZE,\n",
    "    image_size=IMAGE_SIZE\n",
    ")\n",
    "\n",
    "train_data_10_percent = tf.keras.preprocessing.image_dataset_from_directory(\n",
    "    train_dir_10_percent,\n",
    "    label_mode=\"categorical\",\n",
    "    batch_size=BATCH_SIZE,\n",
    "    image_size=IMAGE_SIZE\n",
    ")\n",
    "\n",
    "\n",
    "train_data_all = tf.keras.preprocessing.image_dataset_from_directory(\n",
    "    train_dir_all_data,\n",
    "    label_mode=\"categorical\",\n",
    "    batch_size=BATCH_SIZE,\n",
    "    image_size=IMAGE_SIZE\n",
    ")\n",
    "\n",
    "test_data = tf.keras.preprocessing.image_dataset_from_directory(\n",
    "    test_dir,\n",
    "    label_mode=\"categorical\",\n",
    "    batch_size=BATCH_SIZE,\n",
    "    image_size=IMAGE_SIZE\n",
    ")"
   ]
  },
  {
   "cell_type": "code",
   "execution_count": 48,
   "id": "d638db68-3b2d-4cd2-afcc-87f14a4f4d78",
   "metadata": {},
   "outputs": [],
   "source": [
    "!rm -rf 10_food_classes_1_percent/\n",
    "!rm -rf 10_food_classes_10_percent/\n",
    "!rm -rf 10_food_classes_all_data/\n",
    "!rm -rf transfer_learning/\n",
    "!rm -rf helper_functions.py"
   ]
  },
  {
   "cell_type": "code",
   "execution_count": null,
   "id": "f931f384-c871-4435-a838-b5a2b6d44876",
   "metadata": {},
   "outputs": [],
   "source": []
  }
 ],
 "metadata": {
  "kernelspec": {
   "display_name": "Python 3 (ipykernel)",
   "language": "python",
   "name": "python3"
  },
  "language_info": {
   "codemirror_mode": {
    "name": "ipython",
    "version": 3
   },
   "file_extension": ".py",
   "mimetype": "text/x-python",
   "name": "python",
   "nbconvert_exporter": "python",
   "pygments_lexer": "ipython3",
   "version": "3.10.12"
  }
 },
 "nbformat": 4,
 "nbformat_minor": 5
}
