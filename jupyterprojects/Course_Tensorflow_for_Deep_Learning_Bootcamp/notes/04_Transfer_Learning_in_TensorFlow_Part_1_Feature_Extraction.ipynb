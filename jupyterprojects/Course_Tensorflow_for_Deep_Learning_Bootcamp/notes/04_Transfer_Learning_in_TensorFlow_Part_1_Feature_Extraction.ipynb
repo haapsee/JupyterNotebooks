{
 "cells": [
  {
   "cell_type": "markdown",
   "id": "4c2fd5c1-a729-4858-9c7c-f7da4cfff8bc",
   "metadata": {},
   "source": [
    "# 04. Transfer Learning in TensorFlow Part 1: Feature Extraction\n",
    "\n",
    "Transfer learning is leveraging a working model's existing architecture and learned patterns for our own problem.\n",
    "\n",
    "There are two main benefits:\n",
    "\n",
    "1. Can leverage an existig neural network architecture proven to work on problems similar to our own.\n",
    "2. Can leverage a working neural network architecture which has already learned patterns on similar data to our own, then we can adapt those patterns to our own data"
   ]
  },
  {
   "cell_type": "code",
   "execution_count": 1,
   "id": "51b26ace-bba0-44bb-ba39-f2d397a40935",
   "metadata": {},
   "outputs": [
    {
     "name": "stdout",
     "output_type": "stream",
     "text": [
      "Thu Oct 24 19:26:54 2024       \n",
      "+-----------------------------------------------------------------------------------------+\n",
      "| NVIDIA-SMI 555.42.06              Driver Version: 555.42.06      CUDA Version: 12.5     |\n",
      "|-----------------------------------------+------------------------+----------------------+\n",
      "| GPU  Name                 Persistence-M | Bus-Id          Disp.A | Volatile Uncorr. ECC |\n",
      "| Fan  Temp   Perf          Pwr:Usage/Cap |           Memory-Usage | GPU-Util  Compute M. |\n",
      "|                                         |                        |               MIG M. |\n",
      "|=========================================+========================+======================|\n",
      "|   0  NVIDIA GeForce RTX 2060        Off |   00000000:01:00.0  On |                  N/A |\n",
      "| 25%   55C    P0             36W /  170W |     476MiB /   6144MiB |      0%      Default |\n",
      "|                                         |                        |                  N/A |\n",
      "+-----------------------------------------+------------------------+----------------------+\n",
      "                                                                                         \n",
      "+-----------------------------------------------------------------------------------------+\n",
      "| Processes:                                                                              |\n",
      "|  GPU   GI   CI        PID   Type   Process name                              GPU Memory |\n",
      "|        ID   ID                                                               Usage      |\n",
      "|=========================================================================================|\n",
      "+-----------------------------------------------------------------------------------------+\n"
     ]
    }
   ],
   "source": [
    "# Are we using a gpu\n",
    "!nvidia-smi"
   ]
  },
  {
   "cell_type": "markdown",
   "id": "be39682a-ea28-49d6-b053-896a0fc31e68",
   "metadata": {},
   "source": [
    "## 1. Downloading and becoming one with the data"
   ]
  },
  {
   "cell_type": "code",
   "execution_count": 2,
   "id": "ecde0b8b-0ffa-41ef-8acd-66075b5e3a7a",
   "metadata": {},
   "outputs": [
    {
     "name": "stdout",
     "output_type": "stream",
     "text": [
      "--2024-10-24 19:26:54--  https://storage.googleapis.com/ztm_tf_course/food_vision/10_food_classes_10_percent.zip\n",
      "Resolving storage.googleapis.com (storage.googleapis.com)... 216.58.209.219, 216.58.211.251, 2a00:1450:4026:805::201b, ...\n",
      "Connecting to storage.googleapis.com (storage.googleapis.com)|216.58.209.219|:443... connected.\n",
      "HTTP request sent, awaiting response... 200 OK\n",
      "Length: 168546183 (161M) [application/zip]\n",
      "Saving to: ‘10_food_classes_10_percent.zip’\n",
      "\n",
      "10_food_classes_10_ 100%[===================>] 160.74M  31.2MB/s    in 5.5s    \n",
      "\n",
      "2024-10-24 19:27:00 (29.3 MB/s) - ‘10_food_classes_10_percent.zip’ saved [168546183/168546183]\n",
      "\n"
     ]
    }
   ],
   "source": [
    "!rm -rf 10_food_classes_10_percent*\n",
    "\n",
    "# Get data (10% of 10 food classes from Food101)\n",
    "import zipfile\n",
    "\n",
    "# Download the data\n",
    "!wget https://storage.googleapis.com/ztm_tf_course/food_vision/10_food_classes_10_percent.zip\n",
    "\n",
    "# Unzip the downloaded file\n",
    "zipref = zipfile.ZipFile(\"10_food_classes_10_percent.zip\")\n",
    "zipref.extractall()\n",
    "zipref.close()\n",
    "\n",
    "!rm -rf __MACOSX*"
   ]
  },
  {
   "cell_type": "code",
   "execution_count": 3,
   "id": "8913aabd-4e3f-435c-a51e-427390c76d71",
   "metadata": {},
   "outputs": [
    {
     "name": "stdout",
     "output_type": "stream",
     "text": [
      "There are 2 directories and 0 images in '10_food_classes_10_percent'.\n",
      "There are 10 directories and 0 images in '10_food_classes_10_percent/train'.\n",
      "There are 0 directories and 75 images in '10_food_classes_10_percent/train/chicken_wings'.\n",
      "There are 0 directories and 75 images in '10_food_classes_10_percent/train/chicken_curry'.\n",
      "There are 0 directories and 75 images in '10_food_classes_10_percent/train/ramen'.\n",
      "There are 0 directories and 75 images in '10_food_classes_10_percent/train/steak'.\n",
      "There are 0 directories and 75 images in '10_food_classes_10_percent/train/pizza'.\n",
      "There are 0 directories and 75 images in '10_food_classes_10_percent/train/grilled_salmon'.\n",
      "There are 0 directories and 75 images in '10_food_classes_10_percent/train/fried_rice'.\n",
      "There are 0 directories and 75 images in '10_food_classes_10_percent/train/ice_cream'.\n",
      "There are 0 directories and 75 images in '10_food_classes_10_percent/train/hamburger'.\n",
      "There are 0 directories and 75 images in '10_food_classes_10_percent/train/sushi'.\n",
      "There are 10 directories and 0 images in '10_food_classes_10_percent/test'.\n",
      "There are 0 directories and 250 images in '10_food_classes_10_percent/test/chicken_wings'.\n",
      "There are 0 directories and 250 images in '10_food_classes_10_percent/test/chicken_curry'.\n",
      "There are 0 directories and 250 images in '10_food_classes_10_percent/test/ramen'.\n",
      "There are 0 directories and 250 images in '10_food_classes_10_percent/test/steak'.\n",
      "There are 0 directories and 250 images in '10_food_classes_10_percent/test/pizza'.\n",
      "There are 0 directories and 250 images in '10_food_classes_10_percent/test/grilled_salmon'.\n",
      "There are 0 directories and 250 images in '10_food_classes_10_percent/test/fried_rice'.\n",
      "There are 0 directories and 250 images in '10_food_classes_10_percent/test/ice_cream'.\n",
      "There are 0 directories and 250 images in '10_food_classes_10_percent/test/hamburger'.\n",
      "There are 0 directories and 250 images in '10_food_classes_10_percent/test/sushi'.\n"
     ]
    }
   ],
   "source": [
    "# How many images in each folder?\n",
    "import os\n",
    "\n",
    "# Walk through 10 percent data directory and list number of files\n",
    "for dirpath, dirnames, filenames in os.walk(\"10_food_classes_10_percent\"):\n",
    "    print(f\"There are {len(dirnames)} directories and {len(filenames)} images in '{dirpath}'.\")"
   ]
  },
  {
   "cell_type": "markdown",
   "id": "a5a28e6b-8d6c-49ef-a646-dbd968255a28",
   "metadata": {},
   "source": [
    "## 2. Creating data loaders (preparing the data)\n",
    "\n",
    "We'll use th `ImageDataGenerator` class to load in our images in batches."
   ]
  },
  {
   "cell_type": "code",
   "execution_count": 4,
   "id": "8ca71bab-bbaf-481e-92aa-df23dd54af73",
   "metadata": {},
   "outputs": [
    {
     "name": "stdout",
     "output_type": "stream",
     "text": [
      "Training images\n",
      "Found 750 images belonging to 10 classes.\n",
      "Validation images\n",
      "Found 2500 images belonging to 10 classes.\n"
     ]
    }
   ],
   "source": [
    "# Setup data inputs\n",
    "\n",
    "from tensorflow.keras.preprocessing.image import ImageDataGenerator\n",
    "\n",
    "IMAGE_SHAPE = (224, 224)\n",
    "BATCH_SIZE = 32\n",
    "\n",
    "train_dir = \"10_food_classes_10_percent/train\"\n",
    "test_dir = \"10_food_classes_10_percent/test\"\n",
    "\n",
    "train_datagen = ImageDataGenerator(rescale=1./255)\n",
    "test_datagen = ImageDataGenerator(rescale=1./255)\n",
    "\n",
    "print(\"Training images\")\n",
    "train_data_10_percent = train_datagen.flow_from_directory(\n",
    "    train_dir,\n",
    "    target_size=IMAGE_SHAPE,\n",
    "    batch_size=BATCH_SIZE,\n",
    "    class_mode=\"categorical\"\n",
    ")\n",
    "print(\"Validation images\")\n",
    "test_data_10_percent = test_datagen.flow_from_directory(\n",
    "    test_dir,\n",
    "    target_size=IMAGE_SHAPE,\n",
    "    batch_size=BATCH_SIZE,\n",
    "    class_mode=\"categorical\"\n",
    ")"
   ]
  },
  {
   "cell_type": "markdown",
   "id": "261d5553-82c6-4a92-8102-1a19ba3a1653",
   "metadata": {},
   "source": [
    "## 3. Setting up callbacks (things to run whilst our model trains)\n",
    "\n",
    "Callbacks are extra functionality you can add to your models to be performed during or after training. Some of the mose popular callbacks.\n",
    "\n",
    "* Tracking experiments with the TensorBoard callback\n",
    "* Model checkpoint with the ModelCheckpoint callback\n",
    "* Stopping a model from training (before it trains too long and overfits) with the EarlyStopping callback"
   ]
  },
  {
   "cell_type": "code",
   "execution_count": 5,
   "id": "82223929-b881-4d38-96b9-d38c4ef3a5e2",
   "metadata": {},
   "outputs": [],
   "source": [
    "# Create TensorBoard callback (functionized because we need to create a new one for each model)\n",
    "import datetime\n",
    "\n",
    "def create_tensorboard_callback(dir_name, experiment_name):\n",
    "    log_dir = dir_name + \"/\" + experiment_name + \"/\" + datetime.datetime.now().strftime(\"%Y%m%d-%H%M%S\")\n",
    "    tensorboard_callback = tf.keras.callbacks.TensorBoard(log_dir=log_dir)\n",
    "    print(f\"Saving TensorBoard log files to: {log_dir}\")\n",
    "    return tensorboard_callback"
   ]
  },
  {
   "cell_type": "markdown",
   "id": "e871e4ee-bdb6-4a10-90e6-bac0d2039f80",
   "metadata": {},
   "source": [
    "## 4. Creating models with TensorFlow Hub\n",
    "\n",
    "In the past we've used TensorFlow to create our own models layer by layer from scratch.\n",
    "\n",
    "Now we're going to do a similar process, except the majority of our model's layers are going to come from TensorFlow Hub.\n",
    "\n",
    "We can access pretrained models on: [https://tfhub.dev/](https://tfhub.dev/)\n",
    "\n",
    "Browsing kaggle (tfhub) page and sorting for image classification, we found the following feature vector model link: https://www.kaggle.com/models/tensorflow/efficientnet/tensorFlow2/b0-feature-vector/1\n",
    "\n",
    "https://www.kaggle.com/models/google/resnet-v2/tensorFlow2/50-feature-vector/1"
   ]
  },
  {
   "cell_type": "code",
   "execution_count": 6,
   "id": "faa6112d-64ca-40ad-ae78-7b7bf48f92d2",
   "metadata": {},
   "outputs": [],
   "source": [
    "# Let's compare the following two models\n",
    "\n",
    "# ResNet v2\n",
    "resnet_url = \"https://kaggle.com/models/google/resnet-v2/TensorFlow2/50-feature-vector/1\"\n",
    "# EfficientNet\n",
    "efficientnet_url = \"https://www.kaggle.com/models/tensorflow/efficientnet/TensorFlow2/b0-feature-vector/1\"\n"
   ]
  },
  {
   "cell_type": "code",
   "execution_count": 7,
   "id": "77070a6f-f482-4cdf-92a5-6d9492085d6d",
   "metadata": {},
   "outputs": [],
   "source": [
    "# Import dependencies\n",
    "import tensorflow as tf\n",
    "import tensorflow_hub as hub\n",
    "from tensorflow.keras import layers"
   ]
  },
  {
   "cell_type": "code",
   "execution_count": 8,
   "id": "ea358904-e13b-40f8-98a7-03754d4eb736",
   "metadata": {},
   "outputs": [],
   "source": [
    "# Let's make a create_model() function to create a model from a URL\n",
    "def create_model(model_url, num_classes=10):\n",
    "    \"\"\"\n",
    "    Takes a TensorFlow Hub URL and creates a Keras Sequential model with it.\n",
    "\n",
    "    Args:\n",
    "        model_url (str): A TensorFlow Hub feature extraction URL\n",
    "        num_classes (int): Number of output neurons in the output layer, should be equal to number of target classes, default 10.\n",
    "\n",
    "    Return:\n",
    "        An uncompiled Keras Sequential model with model_url as feature extractor\n",
    "        layer and Dense output layer with num_classes output neurons.\n",
    "    \"\"\"\n",
    "    # Download the pretrained model and save it as Keras Layer\n",
    "    feature_extractor_layer = hub.KerasLayer(\n",
    "        model_url,\n",
    "        trainable=False,\n",
    "        name=\"feature_extraction_layer\",\n",
    "        input_shape=IMAGE_SHAPE+(3,)\n",
    "    )\n",
    "    # Create our own model\n",
    "    return tf.keras.Sequential([\n",
    "        feature_extractor_layer,\n",
    "        layers.Dense(\n",
    "            num_classes, \n",
    "            activation=\"softmax\", \n",
    "            name=\"output_layer\"\n",
    "        )\n",
    "    ])"
   ]
  },
  {
   "cell_type": "markdown",
   "id": "8cebd264-5555-4a6e-8179-b5d1a8f4f7e1",
   "metadata": {},
   "source": [
    "### 4.1 Creating and testing ResNet TensorFlow Hub Feature Extraction model"
   ]
  },
  {
   "cell_type": "code",
   "execution_count": 9,
   "id": "8c79323b-43e0-4590-9689-c0debc5091b2",
   "metadata": {},
   "outputs": [
    {
     "name": "stdout",
     "output_type": "stream",
     "text": [
      "Model: \"sequential\"\n",
      "_________________________________________________________________\n",
      " Layer (type)                Output Shape              Param #   \n",
      "=================================================================\n",
      " feature_extraction_layer (  (None, 2048)              23564800  \n",
      " KerasLayer)                                                     \n",
      "                                                                 \n",
      " output_layer (Dense)        (None, 10)                20490     \n",
      "                                                                 \n",
      "=================================================================\n",
      "Total params: 23585290 (89.97 MB)\n",
      "Trainable params: 20490 (80.04 KB)\n",
      "Non-trainable params: 23564800 (89.89 MB)\n",
      "_________________________________________________________________\n"
     ]
    }
   ],
   "source": [
    "# Creating resnet model\n",
    "resnet_model = create_model(resnet_url)\n",
    "resnet_model.summary()"
   ]
  },
  {
   "cell_type": "code",
   "execution_count": 10,
   "id": "644e2b32-a4c8-487e-ba8b-65cfd5db293c",
   "metadata": {},
   "outputs": [],
   "source": [
    "# Compile our resnet model\n",
    "resnet_model.compile(\n",
    "    loss=\"categorical_crossentropy\",\n",
    "    optimizer=tf.keras.optimizers.Adam(),\n",
    "    metrics=[\"accuracy\"]\n",
    ")"
   ]
  },
  {
   "cell_type": "code",
   "execution_count": 11,
   "id": "c53ff913-c8a0-419d-a707-a3a970abd6cd",
   "metadata": {},
   "outputs": [
    {
     "name": "stdout",
     "output_type": "stream",
     "text": [
      "Saving TensorBoard log files to: tensorflow_hub/resnet50v2/20241024-192706\n",
      "Epoch 1/5\n",
      "24/24 [==============================] - 14s 346ms/step - loss: 1.9272 - accuracy: 0.3347 - val_loss: 1.1957 - val_accuracy: 0.6268\n",
      "Epoch 2/5\n",
      "24/24 [==============================] - 7s 278ms/step - loss: 0.8673 - accuracy: 0.7467 - val_loss: 0.8651 - val_accuracy: 0.7188\n",
      "Epoch 3/5\n",
      "24/24 [==============================] - 7s 279ms/step - loss: 0.6085 - accuracy: 0.8200 - val_loss: 0.7523 - val_accuracy: 0.7644\n",
      "Epoch 4/5\n",
      "24/24 [==============================] - 7s 279ms/step - loss: 0.4571 - accuracy: 0.8773 - val_loss: 0.7121 - val_accuracy: 0.7680\n",
      "Epoch 5/5\n",
      "24/24 [==============================] - 7s 280ms/step - loss: 0.3740 - accuracy: 0.9107 - val_loss: 0.6828 - val_accuracy: 0.7756\n"
     ]
    }
   ],
   "source": [
    "# Fit our resnet model\n",
    "resnet_history_1 = resnet_model.fit(\n",
    "    train_data_10_percent,\n",
    "    epochs=5,\n",
    "    steps_per_epoch=len(train_data_10_percent),\n",
    "    validation_data=test_data_10_percent,\n",
    "    validation_steps=len(test_data_10_percent),\n",
    "    callbacks=[create_tensorboard_callback(\n",
    "        dir_name=\"tensorflow_hub\",\n",
    "        experiment_name=\"resnet50v2\"\n",
    "    )]\n",
    ")"
   ]
  },
  {
   "cell_type": "code",
   "execution_count": 12,
   "id": "28391f48-b863-4b35-9d0f-85174e83a8ce",
   "metadata": {},
   "outputs": [],
   "source": [
    "# Let's create a function to plot our loss curves\n",
    "import matplotlib.pyplot as plt\n",
    "\n",
    "def plot_loss_curves(history, title=\"\"):\n",
    "    loss = history.history[\"loss\"]\n",
    "    val_loss = history.history[\"val_loss\"]\n",
    "    accuracy = history.history[\"accuracy\"]\n",
    "    val_accuracy = history.history[\"val_accuracy\"]\n",
    "    epochs = range(len(history.history[\"loss\"]))\n",
    "    \n",
    "    fig = plt.figure(figsize=(10,5))\n",
    "    fig.suptitle(title)\n",
    "    \n",
    "    # Plot loss\n",
    "    plt.subplot(1,2,1)\n",
    "    plt.plot(epochs, loss, label=\"Training_loss\")\n",
    "    plt.plot(epochs, val_loss, label=\"Validatio_ loss\")\n",
    "    plt.title(\"Loss\")\n",
    "    plt.xlabel(\"Epochs\")\n",
    "    plt.legend()\n",
    "    \n",
    "    # Plot accuracy\n",
    "    plt.subplot(1,2,2)\n",
    "    plt.plot(epochs, accuracy, label=\"Training_accuracy\")\n",
    "    plt.plot(epochs, val_accuracy, label=\"Validation_accuracy\")\n",
    "    plt.title(\"Loss\")\n",
    "    plt.xlabel(\"Epochs\")\n",
    "    plt.legend()"
   ]
  },
  {
   "cell_type": "code",
   "execution_count": 13,
   "id": "502afd4c-c6cf-485d-811c-e575f203d3f2",
   "metadata": {},
   "outputs": [
    {
     "data": {
      "image/png": "[encoded data removed]",
      "text/plain": [
       "<Figure size 1000x500 with 2 Axes>"
      ]
     },
     "metadata": {},
     "output_type": "display_data"
    }
   ],
   "source": [
    "plot_loss_curves(resnet_history_1, title=\"ResNet\")"
   ]
  },
  {
   "cell_type": "markdown",
   "id": "bddb7328-9645-4a4c-99f7-654283c2ae7b",
   "metadata": {},
   "source": [
    "### 4.2 Creating and testing EfficientNetb0 feature extraction"
   ]
  },
  {
   "cell_type": "code",
   "execution_count": 14,
   "id": "1f35ba1b-bb01-4219-8115-a3f598ecbd1a",
   "metadata": {},
   "outputs": [
    {
     "name": "stdout",
     "output_type": "stream",
     "text": [
      "Model: \"sequential_1\"\n",
      "_________________________________________________________________\n",
      " Layer (type)                Output Shape              Param #   \n",
      "=================================================================\n",
      " feature_extraction_layer (  (None, 1280)              4049564   \n",
      " KerasLayer)                                                     \n",
      "                                                                 \n",
      " output_layer (Dense)        (None, 10)                12810     \n",
      "                                                                 \n",
      "=================================================================\n",
      "Total params: 4062374 (15.50 MB)\n",
      "Trainable params: 12810 (50.04 KB)\n",
      "Non-trainable params: 4049564 (15.45 MB)\n",
      "_________________________________________________________________\n"
     ]
    }
   ],
   "source": [
    "# Creating our EfficientNet model\n",
    "efficientnet_model = create_model(efficientnet_url)\n",
    "efficientnet_model.summary()"
   ]
  },
  {
   "cell_type": "code",
   "execution_count": 15,
   "id": "5dd63a62-6d17-4832-9700-bc9d13744e98",
   "metadata": {},
   "outputs": [],
   "source": [
    "# Compile our model\n",
    "efficientnet_model.compile(\n",
    "    loss=\"categorical_crossentropy\",\n",
    "    optimizer=tf.keras.optimizers.Adam(),\n",
    "    metrics=[\"accuracy\"]\n",
    ")"
   ]
  },
  {
   "cell_type": "code",
   "execution_count": 16,
   "id": "85aeb6fd-7f9c-476b-84c4-f911d7c63c10",
   "metadata": {},
   "outputs": [
    {
     "name": "stdout",
     "output_type": "stream",
     "text": [
      "Saving TensorBoard log files to: tensorflow_hub/efficientnetb0/20241024-192800\n",
      "Epoch 1/5\n",
      "24/24 [==============================] - 19s 260ms/step - loss: 1.8642 - accuracy: 0.4160 - val_loss: 1.3059 - val_accuracy: 0.7120\n",
      "Epoch 2/5\n",
      "24/24 [==============================] - 5s 194ms/step - loss: 1.0626 - accuracy: 0.7707 - val_loss: 0.8719 - val_accuracy: 0.8084\n",
      "Epoch 3/5\n",
      "24/24 [==============================] - 5s 194ms/step - loss: 0.7577 - accuracy: 0.8213 - val_loss: 0.6981 - val_accuracy: 0.8432\n",
      "Epoch 4/5\n",
      "24/24 [==============================] - 5s 194ms/step - loss: 0.6099 - accuracy: 0.8600 - val_loss: 0.6066 - val_accuracy: 0.8612\n",
      "Epoch 5/5\n",
      "24/24 [==============================] - 5s 195ms/step - loss: 0.5137 - accuracy: 0.8880 - val_loss: 0.5535 - val_accuracy: 0.8652\n"
     ]
    }
   ],
   "source": [
    "# Fit efficientnet model\n",
    "efficientnet_history_1 = efficientnet_model.fit(\n",
    "    train_data_10_percent,\n",
    "    epochs=5,\n",
    "    steps_per_epoch=len(train_data_10_percent),\n",
    "    validation_data=test_data_10_percent,\n",
    "    validation_steps=len(test_data_10_percent),\n",
    "    callbacks=[create_tensorboard_callback(\n",
    "        dir_name=\"tensorflow_hub\",\n",
    "        experiment_name=\"efficientnetb0\"\n",
    "    )]\n",
    ")"
   ]
  },
  {
   "cell_type": "code",
   "execution_count": 17,
   "id": "20f42906-df55-4ac5-8bcd-6d43a60a0021",
   "metadata": {},
   "outputs": [
    {
     "data": {
      "image/png": "[encoded data removed]",
      "text/plain": [
       "<Figure size 1000x500 with 2 Axes>"
      ]
     },
     "metadata": {},
     "output_type": "display_data"
    }
   ],
   "source": [
    "# Plot loss curves\n",
    "plot_loss_curves(efficientnet_history_1, title=\"EfficientNetb0\")"
   ]
  },
  {
   "cell_type": "code",
   "execution_count": 18,
   "id": "c37a3de7-bf39-4d2b-89aa-f49731db1136",
   "metadata": {},
   "outputs": [
    {
     "name": "stdout",
     "output_type": "stream",
     "text": [
      "Model: \"sequential\"\n",
      "_________________________________________________________________\n",
      " Layer (type)                Output Shape              Param #   \n",
      "=================================================================\n",
      " feature_extraction_layer (  (None, 2048)              23564800  \n",
      " KerasLayer)                                                     \n",
      "                                                                 \n",
      " output_layer (Dense)        (None, 10)                20490     \n",
      "                                                                 \n",
      "=================================================================\n",
      "Total params: 23585290 (89.97 MB)\n",
      "Trainable params: 20490 (80.04 KB)\n",
      "Non-trainable params: 23564800 (89.89 MB)\n",
      "_________________________________________________________________\n",
      "Model: \"sequential_1\"\n",
      "_________________________________________________________________\n",
      " Layer (type)                Output Shape              Param #   \n",
      "=================================================================\n",
      " feature_extraction_layer (  (None, 1280)              4049564   \n",
      " KerasLayer)                                                     \n",
      "                                                                 \n",
      " output_layer (Dense)        (None, 10)                12810     \n",
      "                                                                 \n",
      "=================================================================\n",
      "Total params: 4062374 (15.50 MB)\n",
      "Trainable params: 12810 (50.04 KB)\n",
      "Non-trainable params: 4049564 (15.45 MB)\n",
      "_________________________________________________________________\n"
     ]
    },
    {
     "data": {
      "text/plain": [
       "(None, None)"
      ]
     },
     "execution_count": 18,
     "metadata": {},
     "output_type": "execute_result"
    }
   ],
   "source": [
    "resnet_model.summary(), efficientnet_model.summary()"
   ]
  },
  {
   "cell_type": "code",
   "execution_count": 19,
   "id": "ce310e2d-00b3-4432-99c3-de829a71c116",
   "metadata": {},
   "outputs": [
    {
     "data": {
      "text/plain": [
       "309"
      ]
     },
     "execution_count": 19,
     "metadata": {},
     "output_type": "execute_result"
    }
   ],
   "source": [
    "# How many layers does our efficientnetb0 feature extractor have?\n",
    "len(efficientnet_model.layers[0].weights)"
   ]
  },
  {
   "cell_type": "markdown",
   "id": "40750dcb-ebc3-4007-a42a-3f54f7bcb2f9",
   "metadata": {},
   "source": [
    "### Different types of transfer learning\n",
    "\n",
    "* **\"As is\" transfer learning** - using an existing model with no changes what so ever (e.g. using ImageNet model 1000 ImageNet classes, none of your own)\n",
    "* **Feature extraction\" transfer learning** - use the prelearned patterns of an existing model (e.g. EfficientNetB0 trained on ImageNet) and adjust the output layer for your own problem (e.g. 1000 classes -> 10 classes of food)\n",
    "* **\"Fine-tuning\" transfer learning** - use prelearned patterns of an existing model and \"fine-tune\" many or all of the underlying layers (including new output layers)"
   ]
  },
  {
   "cell_type": "markdown",
   "id": "771f95ca-1e12-4a25-9024-8f84c058e954",
   "metadata": {},
   "source": [
    "## 5. Comparing our models using tensorboard\n",
    "\n",
    "> **Note:** When you upload things to TensorBoard.dev, your experiements are public. So if you are running private experiements do not upload them to TensorBoard.dev"
   ]
  },
  {
   "cell_type": "code",
   "execution_count": 20,
   "id": "87e62eca-33b7-4caa-aea5-6732a7fcb8bf",
   "metadata": {},
   "outputs": [],
   "source": [
    "# Upload TensorBoard dev records\n",
    "# !tensorboard dev upload --logdir ./tensorflow_hub/ --name \"EfficientNetB0 vs Resnet50V2\" --description \"Comparing EfficientNetB0 and Resnet50V2\"\n"
   ]
  },
  {
   "cell_type": "code",
   "execution_count": 22,
   "id": "fba2b4af-805f-428b-9548-8d7f1c11a3ef",
   "metadata": {},
   "outputs": [],
   "source": [
    "# Locally\n",
    "#%load_ext tensorboard\n",
    "#%tensorboard --logdir tensorflow_hub"
   ]
  },
  {
   "cell_type": "code",
   "execution_count": 23,
   "id": "b4eb78eb-6375-4af2-bcc9-5d90a645f986",
   "metadata": {},
   "outputs": [],
   "source": [
    "!rm -rf tensorflow_hub/\n",
    "!rm -rf 10_food_classes_10_percent*"
   ]
  },
  {
   "cell_type": "code",
   "execution_count": null,
   "id": "e68ea0a9-122d-4d62-bd00-8207bf6b5f38",
   "metadata": {},
   "outputs": [],
   "source": []
  }
 ],
 "metadata": {
  "kernelspec": {
   "display_name": "Python 3 (ipykernel)",
   "language": "python",
   "name": "python3"
  },
  "language_info": {
   "codemirror_mode": {
    "name": "ipython",
    "version": 3
   },
   "file_extension": ".py",
   "mimetype": "text/x-python",
   "name": "python",
   "nbconvert_exporter": "python",
   "pygments_lexer": "ipython3",
   "version": "3.10.12"
  }
 },
 "nbformat": 4,
 "nbformat_minor": 5
}
