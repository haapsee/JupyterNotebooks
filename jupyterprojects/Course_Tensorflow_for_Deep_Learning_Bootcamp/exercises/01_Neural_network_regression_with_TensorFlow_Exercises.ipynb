{
 "cells": [
  {
   "cell_type": "code",
   "execution_count": 1,
   "id": "2e804b3d-0360-4b41-86a5-89373a1f13f5",
   "metadata": {},
   "outputs": [
    {
     "data": {
      "text/plain": [
       "'2.14.1'"
      ]
     },
     "execution_count": 1,
     "metadata": {},
     "output_type": "execute_result"
    }
   ],
   "source": [
    "import numpy as np\n",
    "import pandas as pd\n",
    "import tensorflow as tf\n",
    "import matplotlib.pyplot as plt\n",
    "from sklearn.compose import make_column_transformer\n",
    "from sklearn.preprocessing import MinMaxScaler, OneHotEncoder\n",
    "from sklearn.model_selection import train_test_split\n",
    "\n",
    "tf.__version__"
   ]
  },
  {
   "cell_type": "markdown",
   "id": "0f0f47ae-f092-4dec-9c51-1ffebb4bf6e3",
   "metadata": {},
   "source": [
    "# 01. Neural network regression with TensorFlow Exercises\n",
    "\n",
    "1. Create your own regression dataset (or make the one we created in \"Create data to view and fit\" bigger) and build fit a model to it.\n",
    "2. Try building a neural network with 4 Dense layers and fitting it to your own regression dataset, how does it perform?\n",
    "3. Try and improve the results we got on the insurance dataset, some things you might want to try include:\n",
    "  * Building a larger model (how does one with 4 dense layers go?).\n",
    "  * Increasing the number of units in each layer.\n",
    "  * Lookup the documentation of [Adam](https://www.tensorflow.org/api_docs/python/tf/keras/optimizers/Adam) and find out what the first parameter is, what happens if you increase it by 10x?\n",
    "  * What happens if you train for longer (say 300 epochs instead of 200)? \n",
    "4. Import the [Boston pricing dataset](https://www.tensorflow.org/api_docs/python/tf/keras/datasets/boston_housing/load_data) from TensorFlow [`tf.keras.datasets`](https://www.tensorflow.org/api_docs/python/tf/keras/datasets) and model it."
   ]
  },
  {
   "cell_type": "markdown",
   "id": "a243e252-603e-45df-81ef-91742278994e",
   "metadata": {},
   "source": [
    "### 1. Create your own regression dataset (or make the one we created in \"Create data to view and fit\" bigger) and build fit a model to it."
   ]
  },
  {
   "cell_type": "code",
   "execution_count": 2,
   "id": "1dea18ba-c283-454f-a3bd-6cf1e937c708",
   "metadata": {},
   "outputs": [
    {
     "data": {
      "text/plain": [
       "<matplotlib.legend.Legend at 0x76df17b33820>"
      ]
     },
     "execution_count": 2,
     "metadata": {},
     "output_type": "execute_result"
    },
    {
     "data": {
      "image/png": "[encoded data removed]",
      "text/plain": [
       "<Figure size 640x480 with 1 Axes>"
      ]
     },
     "metadata": {},
     "output_type": "display_data"
    }
   ],
   "source": [
    "X = np.arange(100) - 50\n",
    "y = X + 10\n",
    "X_train, X_test, y_train, y_test = train_test_split(X[:], y[:], test_size=.2, random_state=42)\n",
    "plt.figure()\n",
    "plt.scatter(X_train, y_train, c=\"b\", label=\"Training data\")\n",
    "plt.scatter(X_test, y_test, c=\"g\", label=\"Test data\")\n",
    "plt.legend()"
   ]
  },
  {
   "cell_type": "code",
   "execution_count": 3,
   "id": "72d63f52-86e7-4af2-8172-7932af4fa623",
   "metadata": {},
   "outputs": [
    {
     "name": "stdout",
     "output_type": "stream",
     "text": [
      "Epoch 1/10\n",
      "3/3 [==============================] - 0s 3ms/step - loss: 37.0041 - mae: 37.0041\n",
      "Epoch 2/10\n",
      "3/3 [==============================] - 0s 1ms/step - loss: 20.0162 - mae: 20.0162\n",
      "Epoch 3/10\n",
      "3/3 [==============================] - 0s 1ms/step - loss: 10.3555 - mae: 10.3555\n",
      "Epoch 4/10\n",
      "3/3 [==============================] - 0s 1ms/step - loss: 10.0732 - mae: 10.0732\n",
      "Epoch 5/10\n",
      "3/3 [==============================] - 0s 1ms/step - loss: 10.0527 - mae: 10.0527\n",
      "Epoch 6/10\n",
      "3/3 [==============================] - 0s 1ms/step - loss: 10.0600 - mae: 10.0600\n",
      "Epoch 7/10\n",
      "3/3 [==============================] - 0s 1ms/step - loss: 9.9907 - mae: 9.9907\n",
      "Epoch 8/10\n",
      "3/3 [==============================] - 0s 1ms/step - loss: 9.9698 - mae: 9.9698\n",
      "Epoch 9/10\n",
      "3/3 [==============================] - 0s 1ms/step - loss: 9.7779 - mae: 9.7779\n",
      "Epoch 10/10\n",
      "3/3 [==============================] - 0s 1ms/step - loss: 9.9339 - mae: 9.9339\n"
     ]
    },
    {
     "data": {
      "text/plain": [
       "<keras.src.callbacks.History at 0x76df14b1b5e0>"
      ]
     },
     "execution_count": 3,
     "metadata": {},
     "output_type": "execute_result"
    }
   ],
   "source": [
    "# Set seed\n",
    "tf.random.set_seed(42)\n",
    "\n",
    "# Create model\n",
    "model_1 = tf.keras.models.Sequential([\n",
    "    tf.keras.layers.Dense(1)\n",
    "])\n",
    "\n",
    "# Compile model\n",
    "model_1.compile(loss=tf.keras.losses.mae,\n",
    "              optimizer=tf.keras.optimizers.SGD(),\n",
    "              metrics=[\"mae\"])\n",
    "\n",
    "# Fit a model\n",
    "model_1.fit(tf.expand_dims(X_train, axis=-1), y_train, epochs=10)"
   ]
  },
  {
   "cell_type": "code",
   "execution_count": 4,
   "id": "280b4351-4455-49c6-abd9-b6343be36de9",
   "metadata": {},
   "outputs": [
    {
     "name": "stdout",
     "output_type": "stream",
     "text": [
      "Model: \"sequential\"\n",
      "_________________________________________________________________\n",
      " Layer (type)                Output Shape              Param #   \n",
      "=================================================================\n",
      " dense (Dense)               (None, 1)                 2         \n",
      "                                                                 \n",
      "=================================================================\n",
      "Total params: 2 (8.00 Byte)\n",
      "Trainable params: 2 (8.00 Byte)\n",
      "Non-trainable params: 0 (0.00 Byte)\n",
      "_________________________________________________________________\n"
     ]
    }
   ],
   "source": [
    "model_1.summary()"
   ]
  },
  {
   "cell_type": "code",
   "execution_count": 5,
   "id": "73e078d4-8b78-4376-a95c-c17502e200e5",
   "metadata": {},
   "outputs": [
    {
     "name": "stdout",
     "output_type": "stream",
     "text": [
      "1/1 [==============================] - 0s 77ms/step - loss: 10.0376 - mae: 10.0376\n"
     ]
    },
    {
     "data": {
      "text/plain": [
       "[10.037552833557129, 10.037552833557129]"
      ]
     },
     "execution_count": 5,
     "metadata": {},
     "output_type": "execute_result"
    }
   ],
   "source": [
    "model_1.evaluate(X_test, y_test)"
   ]
  },
  {
   "cell_type": "markdown",
   "id": "c57a885b-a74a-4d29-9004-578c62e13842",
   "metadata": {},
   "source": [
    "### 2. Try building a neural network with 4 Dense layers and fitting it to your own regression dataset, how does it perform?"
   ]
  },
  {
   "cell_type": "code",
   "execution_count": 6,
   "id": "4b083c16-1828-4f96-9be7-fa25e2c9bca1",
   "metadata": {},
   "outputs": [
    {
     "name": "stdout",
     "output_type": "stream",
     "text": [
      "Epoch 1/10\n",
      "3/3 [==============================] - 1s 4ms/step - loss: 10.2318 - mae: 10.2318\n",
      "Epoch 2/10\n",
      "3/3 [==============================] - 0s 2ms/step - loss: 10.0694 - mae: 10.0694\n",
      "Epoch 3/10\n",
      "3/3 [==============================] - 0s 2ms/step - loss: 10.0105 - mae: 10.0105\n",
      "Epoch 4/10\n",
      "3/3 [==============================] - 0s 2ms/step - loss: 10.0221 - mae: 10.0221\n",
      "Epoch 5/10\n",
      "3/3 [==============================] - 0s 2ms/step - loss: 9.8858 - mae: 9.8858\n",
      "Epoch 6/10\n",
      "3/3 [==============================] - 0s 2ms/step - loss: 9.8306 - mae: 9.8306\n",
      "Epoch 7/10\n",
      "3/3 [==============================] - 0s 2ms/step - loss: 9.8220 - mae: 9.8220\n",
      "Epoch 8/10\n",
      "3/3 [==============================] - 0s 2ms/step - loss: 9.7366 - mae: 9.7366\n",
      "Epoch 9/10\n",
      "3/3 [==============================] - 0s 2ms/step - loss: 9.6863 - mae: 9.6863\n",
      "Epoch 10/10\n",
      "3/3 [==============================] - 0s 2ms/step - loss: 9.6360 - mae: 9.6360\n"
     ]
    },
    {
     "data": {
      "text/plain": [
       "<keras.src.callbacks.History at 0x76df0e3ebee0>"
      ]
     },
     "execution_count": 6,
     "metadata": {},
     "output_type": "execute_result"
    }
   ],
   "source": [
    "# Set seed\n",
    "tf.random.set_seed(42)\n",
    "\n",
    "# Create model\n",
    "model_2 = tf.keras.models.Sequential([\n",
    "    tf.keras.layers.Dense(10),\n",
    "    tf.keras.layers.Dense(10),\n",
    "    tf.keras.layers.Dense(10),\n",
    "    tf.keras.layers.Dense(1)\n",
    "])\n",
    "\n",
    "# Compile model\n",
    "model_2.compile(loss=tf.keras.losses.mae,\n",
    "              optimizer=tf.keras.optimizers.Adam(),\n",
    "              metrics=[\"mae\"])\n",
    "\n",
    "# Fit a model\n",
    "model_2.fit(tf.expand_dims(X_train, axis=-1), y_train, epochs=10)"
   ]
  },
  {
   "cell_type": "code",
   "execution_count": 7,
   "id": "e99f6732-87d5-46cc-b8a8-af1c23b6cc04",
   "metadata": {},
   "outputs": [
    {
     "name": "stdout",
     "output_type": "stream",
     "text": [
      "1/1 [==============================] - 0s 40ms/step\n",
      "1/1 [==============================] - 0s 38ms/step\n"
     ]
    },
    {
     "data": {
      "text/plain": [
       "<matplotlib.legend.Legend at 0x76df176a7310>"
      ]
     },
     "execution_count": 7,
     "metadata": {},
     "output_type": "execute_result"
    },
    {
     "data": {
      "image/png": "[encoded data removed]",
      "text/plain": [
       "<Figure size 1000x700 with 1 Axes>"
      ]
     },
     "metadata": {},
     "output_type": "display_data"
    }
   ],
   "source": [
    "plt.figure(figsize=(10,7))\n",
    "\n",
    "plt.scatter(X_train, y_train, c=\"b\", label=\"Traing data\")\n",
    "plt.scatter(X_test, y_test, c=\"g\", label=\"Test data\")\n",
    "plt.scatter(X_test, model_1.predict(X_test), c=\"r\", label=\"Predictions model 1\")\n",
    "plt.scatter(X_test, model_2.predict(X_test), c=\"violet\", label=\"Predictions model 2\")\n",
    "\n",
    "plt.legend()"
   ]
  },
  {
   "cell_type": "markdown",
   "id": "a81ae15c-34fd-4a9b-a74f-e6af834b4c32",
   "metadata": {},
   "source": [
    "on 10 epochs `model_2` performance is worse than `model_1`,\n",
    "lets try to compare history graphs of 200 epochs each"
   ]
  },
  {
   "cell_type": "code",
   "execution_count": 8,
   "id": "3b912687-24c8-4e65-8f56-a30dbd4fcbb5",
   "metadata": {},
   "outputs": [],
   "source": [
    "his1 = model_1.fit(tf.expand_dims(X_train, axis=-1), y_train, epochs=100, verbose=0)\n",
    "his2 = model_2.fit(tf.expand_dims(X_train, axis=-1), y_train, epochs=100, verbose=0)"
   ]
  },
  {
   "cell_type": "code",
   "execution_count": 9,
   "id": "97b2da4e-9958-4dcc-b5fb-aecf8b50ab83",
   "metadata": {},
   "outputs": [
    {
     "name": "stdout",
     "output_type": "stream",
     "text": [
      "1/1 [==============================] - 0s 13ms/step\n",
      "1/1 [==============================] - 0s 13ms/step\n"
     ]
    },
    {
     "data": {
      "text/plain": [
       "<matplotlib.legend.Legend at 0x76df0c338910>"
      ]
     },
     "execution_count": 9,
     "metadata": {},
     "output_type": "execute_result"
    },
    {
     "data": {
      "image/png": "[encoded data removed]",
      "text/plain": [
       "<Figure size 1000x700 with 1 Axes>"
      ]
     },
     "metadata": {},
     "output_type": "display_data"
    }
   ],
   "source": [
    "plt.figure(figsize=(10,7))\n",
    "\n",
    "plt.scatter(X_train, y_train, c=\"b\", label=\"Traing data\")\n",
    "plt.scatter(X_test, y_test, c=\"g\", label=\"Test data\")\n",
    "plt.scatter(X_test, model_1.predict(X_test), c=\"r\", label=\"Predictions model 1\")\n",
    "plt.scatter(X_test, model_2.predict(X_test), c=\"violet\", label=\"Predictions model 2\")\n",
    "\n",
    "plt.legend()"
   ]
  },
  {
   "cell_type": "markdown",
   "id": "d692f078-2588-4771-958f-b7b935691da0",
   "metadata": {},
   "source": [
    "### 3. Try and improve the results we got on the insurance dataset, some things you might want to try include:\n",
    "  * Building a larger model (how does one with 4 dense layers go?).\n",
    "  * Increasing the number of units in each layer.\n",
    "  * Lookup the documentation of [Adam](https://www.tensorflow.org/api_docs/python/tf/keras/optimizers/Adam) and find out what the first parameter is, what happens if you increase it by 10x?\n",
    "  * What happens if you train for longer (say 300 epochs instead of 200)? "
   ]
  },
  {
   "cell_type": "code",
   "execution_count": 10,
   "id": "4a0d73b7-172e-496d-8e03-c1065e760f67",
   "metadata": {},
   "outputs": [],
   "source": [
    "# This is what we are trying to beat\n",
    "# Layer (type)                Output Shape              Param #   \n",
    "#=================================================================\n",
    "# dense_24 (Dense)            (None, 100)               1200      \n",
    "#                                                                 \n",
    "# dense_25 (Dense)            (None, 10)                1010      \n",
    "#                                                                 \n",
    "# dense_26 (Dense)            (None, 1)                 11        \n",
    "                                                                 \n",
    "\n",
    "# 9/9 [==============================] - 0s 870us/step - loss: 3438.5100 - mae: 3438.5100\n",
    "# [3438.510009765625, 3438.510009765625]"
   ]
  },
  {
   "cell_type": "code",
   "execution_count": 11,
   "id": "2c2394a2-1ea6-48ce-a8e8-e0a43dce7814",
   "metadata": {},
   "outputs": [
    {
     "data": {
      "text/html": [
       "<div>\n",
       "<style scoped>\n",
       "    .dataframe tbody tr th:only-of-type {\n",
       "        vertical-align: middle;\n",
       "    }\n",
       "\n",
       "    .dataframe tbody tr th {\n",
       "        vertical-align: top;\n",
       "    }\n",
       "\n",
       "    .dataframe thead th {\n",
       "        text-align: right;\n",
       "    }\n",
       "</style>\n",
       "<table border=\"1\" class=\"dataframe\">\n",
       "  <thead>\n",
       "    <tr style=\"text-align: right;\">\n",
       "      <th></th>\n",
       "      <th>age</th>\n",
       "      <th>sex</th>\n",
       "      <th>bmi</th>\n",
       "      <th>children</th>\n",
       "      <th>smoker</th>\n",
       "      <th>region</th>\n",
       "      <th>charges</th>\n",
       "    </tr>\n",
       "  </thead>\n",
       "  <tbody>\n",
       "    <tr>\n",
       "      <th>0</th>\n",
       "      <td>19</td>\n",
       "      <td>female</td>\n",
       "      <td>27.900</td>\n",
       "      <td>0</td>\n",
       "      <td>yes</td>\n",
       "      <td>southwest</td>\n",
       "      <td>16884.92400</td>\n",
       "    </tr>\n",
       "    <tr>\n",
       "      <th>1</th>\n",
       "      <td>18</td>\n",
       "      <td>male</td>\n",
       "      <td>33.770</td>\n",
       "      <td>1</td>\n",
       "      <td>no</td>\n",
       "      <td>southeast</td>\n",
       "      <td>1725.55230</td>\n",
       "    </tr>\n",
       "    <tr>\n",
       "      <th>2</th>\n",
       "      <td>28</td>\n",
       "      <td>male</td>\n",
       "      <td>33.000</td>\n",
       "      <td>3</td>\n",
       "      <td>no</td>\n",
       "      <td>southeast</td>\n",
       "      <td>4449.46200</td>\n",
       "    </tr>\n",
       "    <tr>\n",
       "      <th>3</th>\n",
       "      <td>33</td>\n",
       "      <td>male</td>\n",
       "      <td>22.705</td>\n",
       "      <td>0</td>\n",
       "      <td>no</td>\n",
       "      <td>northwest</td>\n",
       "      <td>21984.47061</td>\n",
       "    </tr>\n",
       "    <tr>\n",
       "      <th>4</th>\n",
       "      <td>32</td>\n",
       "      <td>male</td>\n",
       "      <td>28.880</td>\n",
       "      <td>0</td>\n",
       "      <td>no</td>\n",
       "      <td>northwest</td>\n",
       "      <td>3866.85520</td>\n",
       "    </tr>\n",
       "    <tr>\n",
       "      <th>...</th>\n",
       "      <td>...</td>\n",
       "      <td>...</td>\n",
       "      <td>...</td>\n",
       "      <td>...</td>\n",
       "      <td>...</td>\n",
       "      <td>...</td>\n",
       "      <td>...</td>\n",
       "    </tr>\n",
       "    <tr>\n",
       "      <th>1333</th>\n",
       "      <td>50</td>\n",
       "      <td>male</td>\n",
       "      <td>30.970</td>\n",
       "      <td>3</td>\n",
       "      <td>no</td>\n",
       "      <td>northwest</td>\n",
       "      <td>10600.54830</td>\n",
       "    </tr>\n",
       "    <tr>\n",
       "      <th>1334</th>\n",
       "      <td>18</td>\n",
       "      <td>female</td>\n",
       "      <td>31.920</td>\n",
       "      <td>0</td>\n",
       "      <td>no</td>\n",
       "      <td>northeast</td>\n",
       "      <td>2205.98080</td>\n",
       "    </tr>\n",
       "    <tr>\n",
       "      <th>1335</th>\n",
       "      <td>18</td>\n",
       "      <td>female</td>\n",
       "      <td>36.850</td>\n",
       "      <td>0</td>\n",
       "      <td>no</td>\n",
       "      <td>southeast</td>\n",
       "      <td>1629.83350</td>\n",
       "    </tr>\n",
       "    <tr>\n",
       "      <th>1336</th>\n",
       "      <td>21</td>\n",
       "      <td>female</td>\n",
       "      <td>25.800</td>\n",
       "      <td>0</td>\n",
       "      <td>no</td>\n",
       "      <td>southwest</td>\n",
       "      <td>2007.94500</td>\n",
       "    </tr>\n",
       "    <tr>\n",
       "      <th>1337</th>\n",
       "      <td>61</td>\n",
       "      <td>female</td>\n",
       "      <td>29.070</td>\n",
       "      <td>0</td>\n",
       "      <td>yes</td>\n",
       "      <td>northwest</td>\n",
       "      <td>29141.36030</td>\n",
       "    </tr>\n",
       "  </tbody>\n",
       "</table>\n",
       "<p>1338 rows × 7 columns</p>\n",
       "</div>"
      ],
      "text/plain": [
       "      age     sex     bmi  children smoker     region      charges\n",
       "0      19  female  27.900         0    yes  southwest  16884.92400\n",
       "1      18    male  33.770         1     no  southeast   1725.55230\n",
       "2      28    male  33.000         3     no  southeast   4449.46200\n",
       "3      33    male  22.705         0     no  northwest  21984.47061\n",
       "4      32    male  28.880         0     no  northwest   3866.85520\n",
       "...   ...     ...     ...       ...    ...        ...          ...\n",
       "1333   50    male  30.970         3     no  northwest  10600.54830\n",
       "1334   18  female  31.920         0     no  northeast   2205.98080\n",
       "1335   18  female  36.850         0     no  southeast   1629.83350\n",
       "1336   21  female  25.800         0     no  southwest   2007.94500\n",
       "1337   61  female  29.070         0    yes  northwest  29141.36030\n",
       "\n",
       "[1338 rows x 7 columns]"
      ]
     },
     "execution_count": 11,
     "metadata": {},
     "output_type": "execute_result"
    }
   ],
   "source": [
    "import pandas as pd\n",
    "import matplotlib.pyplot as plt\n",
    "import tensorflow as tf\n",
    "\n",
    "# Read in the insurance dataset\n",
    "insurance = pd.read_csv(\"https://raw.githubusercontent.com/stedy/Machine-Learning-with-R-datasets/refs/heads/master/insurance.csv\")\n",
    "insurance"
   ]
  },
  {
   "cell_type": "code",
   "execution_count": 12,
   "id": "489dc47b-5c10-4ded-9d45-1c1c62b0d116",
   "metadata": {},
   "outputs": [],
   "source": [
    "# Create a column transformer\n",
    "ct = make_column_transformer(\n",
    "    (MinMaxScaler(), [\"age\", \"bmi\", \"children\"]),\n",
    "    (OneHotEncoder(handle_unknown=\"ignore\"), [\"sex\", \"smoker\", \"region\"])\n",
    ")\n",
    "\n",
    "# Create X and y values\n",
    "X = insurance.drop(\"charges\", axis=1)\n",
    "y = insurance[\"charges\"]\n",
    "\n",
    "# Build our train and test sets\n",
    "X_train, X_test, y_train, y_test = train_test_split(X, y, test_size=.2, random_state=42)\n",
    "\n",
    "# Fit the column transformer to our training data\n",
    "ct.fit(X_train)\n",
    "\n",
    "# Transform training and test data with normalization (MinMxScaler) and OneHotEcoder\n",
    "X_train_normal = ct.transform(X_train)\n",
    "X_test_normal =  ct.transform(X_test)"
   ]
  },
  {
   "cell_type": "code",
   "execution_count": 13,
   "id": "12cb8edd-cf9c-4dca-b999-08a775334057",
   "metadata": {},
   "outputs": [],
   "source": [
    "# Create model\n",
    "# Set seed\n",
    "tf.random.set_seed(42)\n",
    "\n",
    "# Create model with 4 layers\n",
    "model_3 = tf.keras.models.Sequential([\n",
    "    tf.keras.layers.Dense(100),\n",
    "    tf.keras.layers.Dense(100),\n",
    "    tf.keras.layers.Dense(100),\n",
    "    tf.keras.layers.Dense(10),\n",
    "    tf.keras.layers.Dense(1),\n",
    "])\n",
    "\n",
    "# Compile model\n",
    "model_3.compile(loss=tf.keras.losses.MAE,\n",
    "                optimizer=tf.keras.optimizers.Adam(),\n",
    "                metrics=[\"mae\"])\n",
    "\n",
    "# Fit model\n",
    "history_model_3 = model_3.fit(X_train_normal, y_train, epochs=100, verbose=0)"
   ]
  },
  {
   "cell_type": "code",
   "execution_count": 14,
   "id": "3c314221-f2e5-4748-8629-9a48f21fa435",
   "metadata": {},
   "outputs": [
    {
     "name": "stdout",
     "output_type": "stream",
     "text": [
      "9/9 [==============================] - 0s 890us/step - loss: 3170.7974 - mae: 3170.7974\n"
     ]
    },
    {
     "data": {
      "text/plain": [
       "[3170.79736328125, 3170.79736328125]"
      ]
     },
     "execution_count": 14,
     "metadata": {},
     "output_type": "execute_result"
    }
   ],
   "source": [
    "model_3.evaluate(X_test_normal, y_test)\n",
    "# Old model\n",
    "# [3438.510009765625, 3438.510009765625]"
   ]
  },
  {
   "cell_type": "code",
   "execution_count": 15,
   "id": "df23b86a-28a7-4bde-b2b2-775ab7008a61",
   "metadata": {},
   "outputs": [],
   "source": [
    "# Increasing the number of units in each layer.\n",
    "# Set seed\n",
    "tf.random.set_seed(42)\n",
    "\n",
    "# Create model\n",
    "model_4 = tf.keras.models.Sequential([\n",
    "    tf.keras.layers.Dense(1000),\n",
    "    tf.keras.layers.Dense(1000),\n",
    "    tf.keras.layers.Dense(1000),\n",
    "    tf.keras.layers.Dense(100),\n",
    "    tf.keras.layers.Dense(1),\n",
    "])\n",
    "\n",
    "# Compile model\n",
    "model_4.compile(loss=tf.keras.losses.MAE,\n",
    "                optimizer=tf.keras.optimizers.Adam(),\n",
    "                metrics=[\"mae\"])\n",
    "\n",
    "# Fit model\n",
    "history_model_4 = model_4.fit(X_train_normal, y_train, epochs=100, verbose=0)"
   ]
  },
  {
   "cell_type": "code",
   "execution_count": 16,
   "id": "35a74cb1-b64e-4c8e-b811-e9a84203104a",
   "metadata": {},
   "outputs": [
    {
     "name": "stdout",
     "output_type": "stream",
     "text": [
      "9/9 [==============================] - 0s 967us/step - loss: 3172.5559 - mae: 3172.5559\n"
     ]
    },
    {
     "data": {
      "text/plain": [
       "[3172.555908203125, 3172.555908203125]"
      ]
     },
     "execution_count": 16,
     "metadata": {},
     "output_type": "execute_result"
    }
   ],
   "source": [
    "model_4.evaluate(X_test_normal, y_test)\n",
    "# Old model\n",
    "# [3438.510009765625, 3438.510009765625]\n",
    "# model_3\n",
    "# [3161.261474609375, 3161.261474609375]"
   ]
  },
  {
   "cell_type": "code",
   "execution_count": 17,
   "id": "9994170b-4c67-4062-977e-76a5c24e10ad",
   "metadata": {},
   "outputs": [],
   "source": [
    "# Lookup the documentation of Adam and find out what the first parameter is, what happens if you increase it by 10x?\n",
    "\n",
    "# Set seed\n",
    "tf.random.set_seed(42)\n",
    "\n",
    "# Create model\n",
    "model_5 = tf.keras.models.Sequential([\n",
    "    tf.keras.layers.Dense(1000),\n",
    "    tf.keras.layers.Dense(1000),\n",
    "    tf.keras.layers.Dense(1000),\n",
    "    tf.keras.layers.Dense(100),\n",
    "    tf.keras.layers.Dense(1),\n",
    "])\n",
    "\n",
    "# Compile model\n",
    "model_5.compile(loss=tf.keras.losses.MAE,\n",
    "                optimizer=tf.keras.optimizers.Adam(learning_rate=0.01),\n",
    "                metrics=[\"mae\"])\n",
    "\n",
    "# Fit model\n",
    "history_model_5 = model_5.fit(X_train_normal, y_train, epochs=100, verbose=0)"
   ]
  },
  {
   "cell_type": "code",
   "execution_count": 18,
   "id": "4092ef5b-7e70-493e-973b-06bd83ac467f",
   "metadata": {},
   "outputs": [
    {
     "name": "stdout",
     "output_type": "stream",
     "text": [
      "9/9 [==============================] - 0s 891us/step - loss: 3216.2874 - mae: 3216.2874\n"
     ]
    },
    {
     "data": {
      "text/plain": [
       "[3216.287353515625, 3216.287353515625]"
      ]
     },
     "execution_count": 18,
     "metadata": {},
     "output_type": "execute_result"
    }
   ],
   "source": [
    "model_5.evaluate(X_test_normal, y_test)\n",
    "# Old model\n",
    "# [3438.510009765625, 3438.510009765625]\n",
    "# model_3\n",
    "# [3161.261474609375, 3161.261474609375]\n",
    "# model_4\n",
    "# [3156.919677734375, 3156.919677734375]\n",
    "# model_5"
   ]
  },
  {
   "cell_type": "code",
   "execution_count": 19,
   "id": "b06a2218-bbff-4478-95f7-7d157b02d317",
   "metadata": {},
   "outputs": [],
   "source": [
    "# What happens if you train for longer (say 300 epochs instead of 200)?\n",
    "\n",
    "# Set seed\n",
    "tf.random.set_seed(42)\n",
    "\n",
    "# Create model\n",
    "model_6 = tf.keras.models.Sequential([\n",
    "    tf.keras.layers.Dense(1000),\n",
    "    tf.keras.layers.Dense(1000),\n",
    "    tf.keras.layers.Dense(1000),\n",
    "    tf.keras.layers.Dense(100),\n",
    "    tf.keras.layers.Dense(1),\n",
    "])\n",
    "\n",
    "# Compile model\n",
    "model_6.compile(loss=tf.keras.losses.MAE,\n",
    "                optimizer=tf.keras.optimizers.Adam(learning_rate=0.01),\n",
    "                metrics=[\"mae\"])\n",
    "\n",
    "# Fit model\n",
    "history_model_6 = model_6.fit(X_train_normal, y_train, epochs=300, verbose=0)"
   ]
  },
  {
   "cell_type": "code",
   "execution_count": 20,
   "id": "3acf7eb2-c11c-4292-8838-daecdb835483",
   "metadata": {},
   "outputs": [
    {
     "name": "stdout",
     "output_type": "stream",
     "text": [
      "9/9 [==============================] - 0s 964us/step - loss: 3253.6072 - mae: 3253.6072\n"
     ]
    },
    {
     "data": {
      "text/plain": [
       "[3253.607177734375, 3253.607177734375]"
      ]
     },
     "execution_count": 20,
     "metadata": {},
     "output_type": "execute_result"
    }
   ],
   "source": [
    "model_6.evaluate(X_test_normal, y_test)\n",
    "# Old model\n",
    "# [3438.510009765625, 3438.510009765625]\n",
    "# model_3\n",
    "# [3161.261474609375, 3161.261474609375]\n",
    "# model_4\n",
    "# [3156.919677734375, 3156.919677734375]\n",
    "# model_5\n",
    "# [3197.523681640625, 3197.523681640625]\n",
    "# model_6"
   ]
  },
  {
   "cell_type": "code",
   "execution_count": 21,
   "id": "fb349a50-c4e2-4012-a7f1-8f3533467a38",
   "metadata": {},
   "outputs": [
    {
     "data": {
      "text/plain": [
       "Text(0, 0.5, 'Epochs')"
      ]
     },
     "execution_count": 21,
     "metadata": {},
     "output_type": "execute_result"
    },
    {
     "data": {
      "image/png": "[encoded data removed]",
      "text/plain": [
       "<Figure size 640x480 with 1 Axes>"
      ]
     },
     "metadata": {},
     "output_type": "display_data"
    }
   ],
   "source": [
    "his3 = history_model_3.history.copy()\n",
    "his3.pop(\"mae\")\n",
    "his3[\"loss model 3\"] = his3.pop(\"loss\")\n",
    "\n",
    "his4 = history_model_4.history.copy()\n",
    "his4.pop(\"mae\")\n",
    "his4[\"loss model 4\"] = his4.pop(\"loss\")\n",
    "\n",
    "his5 = history_model_5.history.copy()\n",
    "his5.pop(\"mae\")\n",
    "his5[\"loss model 5\"] = his5.pop(\"loss\")\n",
    "\n",
    "his6 = history_model_6.history.copy()\n",
    "his6.pop(\"mae\")\n",
    "his6[\"loss model 6\"] = his6.pop(\"loss\")\n",
    "\n",
    "pd.concat([\n",
    "    pd.DataFrame(his3),\n",
    "    pd.DataFrame(his4),\n",
    "    pd.DataFrame(his5),\n",
    "    pd.DataFrame(his6),\n",
    "]).plot()\n",
    "plt.ylabel(\"Loss\")\n",
    "plt.ylabel(\"Epochs\")"
   ]
  },
  {
   "cell_type": "markdown",
   "id": "d89dd04c-2626-4f18-bbd0-07464636cc08",
   "metadata": {},
   "source": [
    "### 4. Import the [Boston pricing dataset](https://www.tensorflow.org/api_docs/python/tf/keras/datasets/boston_housing/load_data) from TensorFlow [`tf.keras.datasets`](https://www.tensorflow.org/api_docs/python/tf/keras/datasets) and model it."
   ]
  },
  {
   "cell_type": "code",
   "execution_count": 22,
   "id": "7d4a5186-9dcc-47fd-981e-17b0064fbea2",
   "metadata": {},
   "outputs": [
    {
     "data": {
      "text/plain": [
       "((404, 13), (404,), (102, 13), (102,))"
      ]
     },
     "execution_count": 22,
     "metadata": {},
     "output_type": "execute_result"
    }
   ],
   "source": [
    "(X_train, y_train), (X_test, y_test) = tf.keras.datasets.boston_housing.load_data(\n",
    "    path='boston_housing.npz',\n",
    "    test_split=0.2,\n",
    "    seed=42\n",
    ")\n",
    "X_train.shape, y_train.shape, X_test.shape, y_test.shape"
   ]
  },
  {
   "cell_type": "code",
   "execution_count": 23,
   "id": "03c13c05-d633-462b-ba88-d7d29ab96874",
   "metadata": {},
   "outputs": [],
   "source": [
    "# Set seedd\n",
    "tf.random.set_seed(42)\n",
    "\n",
    "# Create model\n",
    "boston_housing_model = tf.keras.models.Sequential([\n",
    "    tf.keras.layers.Dense(50),\n",
    "    tf.keras.layers.Dense(100),\n",
    "    tf.keras.layers.Dense(100),\n",
    "    tf.keras.layers.Dense(50),\n",
    "    tf.keras.layers.Dense(1),\n",
    "])\n",
    "\n",
    "# Compile model\n",
    "boston_housing_model.compile(loss=\"mae\",\n",
    "                             optimizer=tf.keras.optimizers.Adam(learning_rate=0.001),\n",
    "                             metrics=[\"mae\"])\n",
    "\n",
    "# Fit the model\n",
    "boston_housing_history = boston_housing_model.fit(X_train, y_train, epochs=200, verbose=0)"
   ]
  },
  {
   "cell_type": "code",
   "execution_count": 24,
   "id": "3bfd55d2-787e-431b-a17a-1cf1a229cc68",
   "metadata": {},
   "outputs": [
    {
     "name": "stdout",
     "output_type": "stream",
     "text": [
      "4/4 [==============================] - 0s 1ms/step - loss: 4.0931 - mae: 4.0931\n"
     ]
    },
    {
     "data": {
      "text/plain": [
       "[4.093116760253906, 4.093116760253906]"
      ]
     },
     "execution_count": 24,
     "metadata": {},
     "output_type": "execute_result"
    }
   ],
   "source": [
    "boston_housing_model.evaluate(X_test, y_test)"
   ]
  },
  {
   "cell_type": "code",
   "execution_count": 25,
   "id": "e3ae3ec5-1754-43bf-b955-7040d5ebe2bf",
   "metadata": {},
   "outputs": [
    {
     "data": {
      "text/plain": [
       "Text(0.5, 0, 'Epochs')"
      ]
     },
     "execution_count": 25,
     "metadata": {},
     "output_type": "execute_result"
    },
    {
     "data": {
      "image/png": "[encoded data removed]",
      "text/plain": [
       "<Figure size 640x480 with 1 Axes>"
      ]
     },
     "metadata": {},
     "output_type": "display_data"
    }
   ],
   "source": [
    "pd.DataFrame(boston_housing_history.history).plot()\n",
    "plt.ylabel(\"Loss\")\n",
    "plt.xlabel(\"Epochs\")"
   ]
  },
  {
   "cell_type": "markdown",
   "id": "08efe8c8-b011-4f7a-b9c0-229e1f464e18",
   "metadata": {},
   "source": [
    "### 📖 01. Neural network regression with TensorFlow Extra-curriculum\n",
    "\n",
    "* [MIT introduction deep learning lecture 1](https://www.youtube.com/watch?v=7sB052Pz0sQ&ab_channel=AlexanderAmini) - gives a great overview of what's happening behind all of the code we're running.\n",
    "* Reading: 1-hour of [Chapter 1 of Neural Networks and Deep Learning](http://neuralnetworksanddeeplearning.com/chap1.html) by Michael Nielson - a great in-depth and hands-on example of the intuition behind neural networks.\n",
    "* To practice your regression modelling with TensorFlow, I'd also encourage you to look through [Kaggle's datasets](https://www.kaggle.com/data), find a regression dataset which sparks your interest and try to model."
   ]
  },
  {
   "cell_type": "code",
   "execution_count": null,
   "id": "0c14a5c1-cd67-4e45-83e8-541aca42fb42",
   "metadata": {},
   "outputs": [],
   "source": []
  }
 ],
 "metadata": {
  "kernelspec": {
   "display_name": "Python 3 (ipykernel)",
   "language": "python",
   "name": "python3"
  },
  "language_info": {
   "codemirror_mode": {
    "name": "ipython",
    "version": 3
   },
   "file_extension": ".py",
   "mimetype": "text/x-python",
   "name": "python",
   "nbconvert_exporter": "python",
   "pygments_lexer": "ipython3",
   "version": "3.10.12"
  }
 },
 "nbformat": 4,
 "nbformat_minor": 5
}
