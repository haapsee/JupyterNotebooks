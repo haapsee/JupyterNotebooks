{
 "cells": [
  {
   "cell_type": "markdown",
   "id": "cd68f453-a331-4cb0-afd5-fa73c1364a67",
   "metadata": {},
   "source": [
    "# 🛠 08. Introduction to NLP (Natural Language Processing) in TensorFlow Exercises\n",
    "1. Rebuild, compile and train `model_1`, `model_2` and `model_5` using the [Keras Sequential API](https://www.tensorflow.org/api_docs/python/tf/keras/Sequential) instead of the Functional API.\n",
    "2. Retrain the baseline model with 10% of the training data. How does perform compared to the Universal Sentence Encoder model with 10% of the training data?\n",
    "3. Try fine-tuning the TF Hub Universal Sentence Encoder model by setting `training=True` when instantiating it as a Keras layer.\n",
    "\n",
    "```\n",
    "# We can use this encoding layer in place of our text_vectorizer and embedding layer\n",
    "sentence_encoder_layer = hub.KerasLayer(\"https://tfhub.dev/google/universal-sentence-encoder/4\",\n",
    "                                        input_shape=[],\n",
    "                                        dtype=tf.string,\n",
    "                                        trainable=True) # turn training on to fine-tune the TensorFlow Hub model\n",
    "```\n",
    "4. Retrain the best model you've got so far on the whole training set (no validation split). Then use this trained model to make predictions on the test dataset and format the predictions into the same format as the `sample_submission.csv` file from Kaggle (see the Files tab in Colab for what the `sample_submission.csv` file looks like). Once you've done this, [make a submission to the Kaggle competition](https://www.kaggle.com/c/nlp-getting-started/data), how did your model perform?\n",
    "5. Combine the ensemble predictions using the majority vote (mode), how does this perform compare to averaging the prediction probabilities of each model?\n",
    "6. Make a confusion matrix with the best performing model's predictions on the validation set and the validation ground truth labels."
   ]
  },
  {
   "cell_type": "markdown",
   "id": "07bd2ffc-996c-4dda-af81-2702d749ebc3",
   "metadata": {},
   "source": [
    "## 1. Rebuild, compile and train `model_1`, `model_2` and `model_5` using the [Keras Sequential API](https://www.tensorflow.org/api_docs/python/tf/keras/Sequential) instead of the Functional API.\n",
    "\n",
    "* **Model 0:** Naive Bayers (baseline)\n",
    "* **Model 1:** Feed-forward neural network (dense model)\n",
    "* **Model 2:** LSTM model (RNN)\n",
    "* **Model 3:** GRU Model (RNN)\n",
    "* **Model 4:** Bidirectional-LSTM model (RNN)\n",
    "* **Model 5:** 1D Convolutional Neural Network (CNN)\n",
    "* **Model 6:** TensorFlow Hub Pretrained Feature Extractor ( using transfer learning for NLP)\n",
    "* **Model 7:** Same as model 6 with 10% of data \n"
   ]
  },
  {
   "cell_type": "markdown",
   "id": "d9f99dd3-6245-452d-9661-1f64d75de914",
   "metadata": {},
   "source": [
    "### Get the data"
   ]
  },
  {
   "cell_type": "code",
   "execution_count": 1,
   "id": "4b393e03-ea95-4814-a82b-f86c0165db0c",
   "metadata": {},
   "outputs": [
    {
     "name": "stdout",
     "output_type": "stream",
     "text": [
      "--2024-11-04 11:19:14--  https://storage.googleapis.com/ztm_tf_course/nlp_getting_started.zip\n",
      "Resolving storage.googleapis.com (storage.googleapis.com)... 216.58.210.187, 216.58.211.251, 216.58.209.219, ...\n",
      "Connecting to storage.googleapis.com (storage.googleapis.com)|216.58.210.187|:443... connected.\n",
      "HTTP request sent, awaiting response... 200 OK\n",
      "Length: 607343 (593K) [application/zip]\n",
      "Saving to: ‘nlp_getting_started.zip’\n",
      "\n",
      "nlp_getting_started 100%[===================>] 593.11K  --.-KB/s    in 0.07s   \n",
      "\n",
      "2024-11-04 11:19:14 (8.09 MB/s) - ‘nlp_getting_started.zip’ saved [607343/607343]\n",
      "\n",
      "Archive:  nlp_getting_started.zip\n",
      "  inflating: sample_submission.csv   \n",
      "  inflating: test.csv                \n",
      "  inflating: train.csv               \n"
     ]
    }
   ],
   "source": [
    "!rm -rf sample_submission.csv\n",
    "!rm -rf test.csv\n",
    "!rm -rf train.csv\n",
    "\n",
    "!wget https://storage.googleapis.com/ztm_tf_course/nlp_getting_started.zip\n",
    "\n",
    "# Unzip data\n",
    "!unzip nlp_getting_started.zip\n",
    "!rm -rf nlp_getting_started.zip"
   ]
  },
  {
   "cell_type": "code",
   "execution_count": 2,
   "id": "eaa4d38a-a866-4e4a-898d-626b3554e8e0",
   "metadata": {},
   "outputs": [],
   "source": [
    "import pandas as pd"
   ]
  },
  {
   "cell_type": "code",
   "execution_count": 3,
   "id": "bea01951-d2f3-4ec9-bf60-fa74ab77bafb",
   "metadata": {},
   "outputs": [],
   "source": [
    "train_df = pd.read_csv(\"train.csv\")\n",
    "train_df_shuffled = train_df.sample(frac=1, random_state=42)\n",
    "from sklearn.model_selection import train_test_split\n",
    "train_data, val_data, train_labels, val_labels = train_test_split(\n",
    "    train_df_shuffled[\"text\"].to_numpy(),\n",
    "    train_df_shuffled[\"target\"].to_numpy(),\n",
    "    test_size=0.1, # use 10% of data for validation\n",
    "    random_state=42\n",
    ")"
   ]
  },
  {
   "cell_type": "markdown",
   "id": "4c9af9b7-2ab6-48ef-bfe3-1a037836975d",
   "metadata": {},
   "source": [
    "### Create vectorizer"
   ]
  },
  {
   "cell_type": "code",
   "execution_count": 4,
   "id": "f41a4d2b-1796-4975-bd19-5efde25c6b97",
   "metadata": {},
   "outputs": [],
   "source": [
    "import tensorflow as tf\n",
    "from tensorflow.keras.layers.experimental.preprocessing import TextVectorization"
   ]
  },
  {
   "cell_type": "code",
   "execution_count": 5,
   "id": "a4164d46-d6a1-4235-9177-6d81a80d9ca6",
   "metadata": {},
   "outputs": [],
   "source": [
    "max_vocab_length = 10000\n",
    "max_length = 15\n",
    "\n",
    "text_vectorizer = TextVectorization(\n",
    "    max_tokens=max_vocab_length,\n",
    "    standardize='lower_and_strip_punctuation',\n",
    "    split='whitespace',\n",
    "    ngrams=None,\n",
    "    output_mode='int',\n",
    "    output_sequence_length=max_length,\n",
    "    pad_to_max_tokens=False,\n",
    ")\n",
    "text_vectorizer.adapt(train_data)"
   ]
  },
  {
   "cell_type": "markdown",
   "id": "19659e8c-3d8e-4619-bc33-f775684b01b6",
   "metadata": {},
   "source": [
    "### Create embeddings"
   ]
  },
  {
   "cell_type": "code",
   "execution_count": 6,
   "id": "75304d81-fe5b-43c7-baee-12112136a550",
   "metadata": {},
   "outputs": [],
   "source": [
    "from tensorflow.keras import layers"
   ]
  },
  {
   "cell_type": "code",
   "execution_count": 7,
   "id": "a4d91f47-ba2e-4b23-b2ff-cf528a5a8ff5",
   "metadata": {},
   "outputs": [],
   "source": [
    "embeddings = layers.Embedding(\n",
    "    max_vocab_length,\n",
    "    128,\n",
    "    input_length=max_length\n",
    ")"
   ]
  },
  {
   "cell_type": "markdown",
   "id": "b2bf07e7-dc95-48e4-8cc6-ccde0eb7c9e6",
   "metadata": {},
   "source": [
    "### Rebuild, compile and build `model_1`"
   ]
  },
  {
   "cell_type": "code",
   "execution_count": 8,
   "id": "6bf2e517-9119-42a3-ac63-ae8d9e496b2a",
   "metadata": {},
   "outputs": [
    {
     "name": "stdout",
     "output_type": "stream",
     "text": [
      "Epoch 1/5\n",
      "215/215 [==============================] - 9s 31ms/step - loss: 0.6128 - accuracy: 0.6914 - val_loss: 0.5372 - val_accuracy: 0.7598\n",
      "Epoch 2/5\n",
      "215/215 [==============================] - 1s 6ms/step - loss: 0.4413 - accuracy: 0.8196 - val_loss: 0.4734 - val_accuracy: 0.7835\n",
      "Epoch 3/5\n",
      "215/215 [==============================] - 1s 3ms/step - loss: 0.3463 - accuracy: 0.8621 - val_loss: 0.4583 - val_accuracy: 0.7874\n",
      "Epoch 4/5\n",
      "215/215 [==============================] - 1s 3ms/step - loss: 0.2842 - accuracy: 0.8913 - val_loss: 0.4646 - val_accuracy: 0.7874\n",
      "Epoch 5/5\n",
      "215/215 [==============================] - 1s 4ms/step - loss: 0.2384 - accuracy: 0.9124 - val_loss: 0.4869 - val_accuracy: 0.7953\n",
      "24/24 [==============================] - 0s 974us/step - loss: 0.4869 - accuracy: 0.7953\n"
     ]
    }
   ],
   "source": [
    "model_1 = tf.keras.models.Sequential([\n",
    "    layers.Input(shape=(1,), dtype=tf.string),\n",
    "    text_vectorizer,\n",
    "    embeddings,\n",
    "    layers.GlobalAveragePooling1D(),\n",
    "    layers.Dense(1, activation=\"sigmoid\")\n",
    "])\n",
    "model_1.compile(\n",
    "    loss=\"binary_crossentropy\",\n",
    "    optimizer=tf.keras.optimizers.Adam(),\n",
    "    metrics=[\"accuracy\"]\n",
    ")\n",
    "model_1_history = model_1.fit(\n",
    "    train_data,\n",
    "    train_labels,\n",
    "    epochs=5,\n",
    "    validation_data=(val_data, val_labels)\n",
    ")\n",
    "model_1_evaluation = model_1.evaluate(val_data, val_labels)"
   ]
  },
  {
   "cell_type": "markdown",
   "id": "6280357d-2628-4177-a25a-894c4c1bca87",
   "metadata": {},
   "source": [
    "### Rebuild, compile and build `model_2`"
   ]
  },
  {
   "cell_type": "code",
   "execution_count": 9,
   "id": "a51c3931-a01a-4f0d-b156-738c9615367f",
   "metadata": {},
   "outputs": [
    {
     "name": "stdout",
     "output_type": "stream",
     "text": [
      "Epoch 1/5\n",
      "215/215 [==============================] - 9s 31ms/step - loss: 0.2250 - accuracy: 0.9212 - val_loss: 0.5704 - val_accuracy: 0.7756\n",
      "Epoch 2/5\n",
      "215/215 [==============================] - 1s 7ms/step - loss: 0.1566 - accuracy: 0.9426 - val_loss: 0.6206 - val_accuracy: 0.7808\n",
      "Epoch 3/5\n",
      "215/215 [==============================] - 1s 5ms/step - loss: 0.1309 - accuracy: 0.9540 - val_loss: 0.7225 - val_accuracy: 0.7822\n",
      "Epoch 4/5\n",
      "215/215 [==============================] - 1s 4ms/step - loss: 0.1045 - accuracy: 0.9600 - val_loss: 0.7883 - val_accuracy: 0.7795\n",
      "Epoch 5/5\n",
      "215/215 [==============================] - 1s 3ms/step - loss: 0.0849 - accuracy: 0.9666 - val_loss: 0.9178 - val_accuracy: 0.7782\n",
      "24/24 [==============================] - 0s 1ms/step - loss: 0.9178 - accuracy: 0.7782\n"
     ]
    }
   ],
   "source": [
    "model_2 = tf.keras.models.Sequential([\n",
    "    layers.Input(shape=(1,), dtype=tf.string),\n",
    "    text_vectorizer,\n",
    "    embeddings,\n",
    "    layers.LSTM(64),\n",
    "    layers.Dense(1, activation=\"sigmoid\")\n",
    "])\n",
    "model_2.compile(\n",
    "    loss=\"binary_crossentropy\",\n",
    "    optimizer=tf.keras.optimizers.Adam(),\n",
    "    metrics=[\"accuracy\"]\n",
    ")\n",
    "model_2_history = model_2.fit(\n",
    "    train_data,\n",
    "    train_labels,\n",
    "    epochs=5,\n",
    "    validation_data=(val_data, val_labels)\n",
    ")\n",
    "model_2_evaluation = model_2.evaluate(val_data, val_labels)"
   ]
  },
  {
   "cell_type": "markdown",
   "id": "d6d7a024-1951-4288-81bc-b1a9deeff714",
   "metadata": {},
   "source": [
    "### Rebuild, compile and build `model_5`"
   ]
  },
  {
   "cell_type": "code",
   "execution_count": 10,
   "id": "79221626-76c5-4bad-85e8-d57fe2af09ba",
   "metadata": {},
   "outputs": [
    {
     "name": "stdout",
     "output_type": "stream",
     "text": [
      "Epoch 1/5\n",
      "215/215 [==============================] - 7s 26ms/step - loss: 0.1518 - accuracy: 0.9463 - val_loss: 0.7677 - val_accuracy: 0.7782\n",
      "Epoch 2/5\n",
      "215/215 [==============================] - 2s 9ms/step - loss: 0.1005 - accuracy: 0.9619 - val_loss: 0.8661 - val_accuracy: 0.7795\n",
      "Epoch 3/5\n",
      "215/215 [==============================] - 1s 3ms/step - loss: 0.0777 - accuracy: 0.9705 - val_loss: 0.9561 - val_accuracy: 0.7690\n",
      "Epoch 4/5\n",
      "215/215 [==============================] - 1s 3ms/step - loss: 0.0670 - accuracy: 0.9743 - val_loss: 0.9991 - val_accuracy: 0.7638\n",
      "Epoch 5/5\n",
      "215/215 [==============================] - 1s 3ms/step - loss: 0.0603 - accuracy: 0.9764 - val_loss: 1.1090 - val_accuracy: 0.7703\n",
      "24/24 [==============================] - 0s 1ms/step - loss: 1.1090 - accuracy: 0.7703\n"
     ]
    }
   ],
   "source": [
    "model_5 = tf.keras.models.Sequential([\n",
    "    layers.Input(shape=(1,), dtype=tf.string),\n",
    "    text_vectorizer,\n",
    "    embeddings,\n",
    "    layers.Conv1D(64, 5, activation=\"relu\", padding=\"valid\"),\n",
    "    layers.GlobalMaxPool1D(),\n",
    "    layers.Dense(1, activation=\"sigmoid\")\n",
    "])\n",
    "model_5.compile(\n",
    "    loss=\"binary_crossentropy\",\n",
    "    optimizer=tf.keras.optimizers.Adam(),\n",
    "    metrics=[\"accuracy\"]\n",
    ")\n",
    "model_5_history = model_5.fit(\n",
    "    train_data,\n",
    "    train_labels,\n",
    "    epochs=5,\n",
    "    validation_data=(val_data, val_labels)\n",
    ")\n",
    "model_5_evaluation = model_5.evaluate(val_data, val_labels)"
   ]
  },
  {
   "cell_type": "markdown",
   "id": "fbc73e1c-5976-459b-a5d2-c1ba04de79a8",
   "metadata": {},
   "source": [
    "## 2. Retrain the baseline model with 10% of the training data. How does perform compared to the Universal Sentence Encoder model with 10% of the training data?"
   ]
  },
  {
   "cell_type": "code",
   "execution_count": 11,
   "id": "7d8b8894-67fe-4687-ae3c-261fbfb4cc3c",
   "metadata": {},
   "outputs": [],
   "source": [
    "train_split = len(train_data) // 10\n",
    "train_data_10_percent = train_data[:train_split]\n",
    "train_labels_10_percent = train_labels[:train_split]"
   ]
  },
  {
   "cell_type": "code",
   "execution_count": 12,
   "id": "dbbae126-7191-4843-87d0-fe73ec2d4904",
   "metadata": {},
   "outputs": [
    {
     "data": {
      "text/plain": [
       "0.7020997375328084"
      ]
     },
     "execution_count": 12,
     "metadata": {},
     "output_type": "execute_result"
    }
   ],
   "source": [
    "from sklearn.feature_extraction.text import TfidfVectorizer\n",
    "from sklearn.naive_bayes import MultinomialNB\n",
    "from sklearn.pipeline import Pipeline\n",
    "\n",
    "# Create tokenization and modelling pipeline\n",
    "model_0 = Pipeline([\n",
    "    (\"tfidf\", TfidfVectorizer()),\n",
    "    (\"clf\", MultinomialNB())\n",
    "])\n",
    "\n",
    "# Fit the pipeline to the traiing data\n",
    "model_0.fit(train_data_10_percent, train_labels_10_percent)\n",
    "model_0_evaluation = model_0.score(val_data, val_labels)\n",
    "model_0_evaluation"
   ]
  },
  {
   "cell_type": "markdown",
   "id": "a99cee36-c63b-479c-a804-41b0fbace118",
   "metadata": {},
   "source": [
    "With less data Universal Sentence Encoder model works better\n",
    "\n",
    "77.95% vs 70.20% accuracy"
   ]
  },
  {
   "cell_type": "markdown",
   "id": "585d50ab-3854-477a-b026-a7af247be50c",
   "metadata": {},
   "source": [
    "## 3. Try fine-tuning the TF Hub Universal Sentence Encoder model by setting `training=True` when instantiating it as a Keras layer.\n",
    "\n",
    "```\n",
    "# We can use this encoding layer in place of our text_vectorizer and embedding layer\n",
    "sentence_encoder_layer = hub.KerasLayer(\"https://tfhub.dev/google/universal-sentence-encoder/4\",\n",
    "                                        input_shape=[],\n",
    "                                        dtype=tf.string,\n",
    "                                        trainable=True) # turn training on to fine-tune the TensorFlow Hub model\n",
    "```"
   ]
  },
  {
   "cell_type": "code",
   "execution_count": 13,
   "id": "7cab2cec-a55f-4b4b-80bf-67e78f92a98e",
   "metadata": {},
   "outputs": [
    {
     "name": "stdout",
     "output_type": "stream",
     "text": [
      "Epoch 1/10\n",
      "215/215 [==============================] - 109s 382ms/step - loss: 0.6283 - accuracy: 0.6784 - val_loss: 0.5686 - val_accuracy: 0.7848\n",
      "Epoch 2/10\n",
      "215/215 [==============================] - 22s 103ms/step - loss: 0.5019 - accuracy: 0.8019 - val_loss: 0.4844 - val_accuracy: 0.8031\n",
      "Epoch 3/10\n",
      "215/215 [==============================] - 20s 92ms/step - loss: 0.4254 - accuracy: 0.8263 - val_loss: 0.4445 - val_accuracy: 0.8241\n",
      "Epoch 4/10\n",
      "215/215 [==============================] - 18s 83ms/step - loss: 0.3769 - accuracy: 0.8415 - val_loss: 0.4283 - val_accuracy: 0.8255\n",
      "Epoch 5/10\n",
      "215/215 [==============================] - 16s 76ms/step - loss: 0.3388 - accuracy: 0.8591 - val_loss: 0.4227 - val_accuracy: 0.8255\n",
      "Epoch 6/10\n",
      "215/215 [==============================] - 17s 79ms/step - loss: 0.2999 - accuracy: 0.8775 - val_loss: 0.4221 - val_accuracy: 0.8346\n",
      "Epoch 7/10\n",
      "215/215 [==============================] - 16s 74ms/step - loss: 0.2601 - accuracy: 0.8969 - val_loss: 0.4253 - val_accuracy: 0.8360\n",
      "Epoch 8/10\n",
      "215/215 [==============================] - 15s 71ms/step - loss: 0.2193 - accuracy: 0.9162 - val_loss: 0.4360 - val_accuracy: 0.8360\n",
      "Epoch 9/10\n",
      "215/215 [==============================] - 15s 72ms/step - loss: 0.1780 - accuracy: 0.9329 - val_loss: 0.4531 - val_accuracy: 0.8346\n",
      "Epoch 10/10\n",
      "215/215 [==============================] - 15s 71ms/step - loss: 0.1407 - accuracy: 0.9510 - val_loss: 0.4729 - val_accuracy: 0.8360\n",
      "24/24 [==============================] - 0s 4ms/step - loss: 0.4729 - accuracy: 0.8360\n"
     ]
    },
    {
     "data": {
      "text/plain": [
       "[0.47287407517433167, 0.8359580039978027]"
      ]
     },
     "execution_count": 13,
     "metadata": {},
     "output_type": "execute_result"
    }
   ],
   "source": [
    "import tensorflow_hub as hub\n",
    "sentence_encoder_layer = hub.KerasLayer(\"https://tfhub.dev/google/universal-sentence-encoder/4\",\n",
    "                                        input_shape=[],\n",
    "                                        dtype=tf.string,\n",
    "                                        trainable=True)\n",
    "model_8 = tf.keras.models.Sequential([\n",
    "    sentence_encoder_layer,\n",
    "    layers.Dense(128, activation=\"relu\"),\n",
    "    layers.Dense(1, activation=\"sigmoid\")\n",
    "])\n",
    "model_8.compile(\n",
    "    loss=\"binary_crossentropy\",\n",
    "    optimizer=tf.keras.optimizers.Adam(learning_rate=10**-4/2),\n",
    "    metrics=[\"accuracy\"]\n",
    ")\n",
    "model_8_history = model_8.fit(\n",
    "    train_data,\n",
    "    train_labels,\n",
    "    epochs=10,\n",
    "    validation_data=(val_data, val_labels)\n",
    ")\n",
    "model_8_evaluation = model_8.evaluate(val_data, val_labels)\n",
    "model_8_evaluation"
   ]
  },
  {
   "cell_type": "markdown",
   "id": "f05b0ef0-e2a2-451c-9563-71866bb0bf04",
   "metadata": {},
   "source": [
    "| ------- | accuracy  | precision |  recall  |    f1    | \n",
    "| ------- | --------- | --------- | -------- | -------- |\n",
    "| model_0 | 79.265092 | 0.811139  | 0.792651 | 0.786219 |\n",
    "| model_1 | 77.821522 | 0.780165  | 0.778215 | 0.776141 |\n",
    "| model_2 | 78.346457 | 0.783161  | 0.783465 | 0.783006 |\n",
    "| model_3 | 77.559055 | 0.777207  | 0.775591 | 0.773618 |\n",
    "| model_4 | 76.377953 | 0.764384  | 0.763780 | 0.762141 |\n",
    "| model_5 | 74.803150 | 0.748333  | 0.748031 | 0.746284 |\n",
    "| model_6 | 82.152231 | 0.823516  | 0.821522 | 0.820193 |\n",
    "| model_7 | 77.952756 | 0.780242  | 0.779528 | 0.778108 |"
   ]
  },
  {
   "cell_type": "markdown",
   "id": "3b5d71cd-28a4-4a3a-a2fc-f95f605fb2f0",
   "metadata": {},
   "source": [
    "## 4. Retrain the best model you've got so far on the whole training set (no validation split). Then use this trained model to make predictions on the test dataset and format the predictions into the same format as the `sample_submission.csv` file from Kaggle (see the Files tab in Colab for what the `sample_submission.csv` file looks like). Once you've done this, [make a submission to the Kaggle competition](https://www.kaggle.com/c/nlp-getting-started/data), how did your model perform?"
   ]
  },
  {
   "cell_type": "code",
   "execution_count": 14,
   "id": "cacf0e8a-43e7-47d9-82ef-3bb61c4a120d",
   "metadata": {},
   "outputs": [
    {
     "name": "stdout",
     "output_type": "stream",
     "text": [
      "Epoch 1/5\n",
      "238/238 [==============================] - 108s 347ms/step - loss: 0.6275 - accuracy: 0.6921\n",
      "Epoch 2/5\n",
      "238/238 [==============================] - 21s 87ms/step - loss: 0.4849 - accuracy: 0.8015\n",
      "Epoch 3/5\n",
      "238/238 [==============================] - 18s 77ms/step - loss: 0.4138 - accuracy: 0.8283\n",
      "Epoch 4/5\n",
      "238/238 [==============================] - 17s 72ms/step - loss: 0.3708 - accuracy: 0.8459\n",
      "Epoch 5/5\n",
      "238/238 [==============================] - 17s 71ms/step - loss: 0.3349 - accuracy: 0.8609\n"
     ]
    }
   ],
   "source": [
    "train_data_all, train_labels_all = train_df_shuffled[\"text\"].to_numpy(), train_df_shuffled[\"target\"].to_numpy()\n",
    "\n",
    "sentence_encoder_layer = hub.KerasLayer(\"https://tfhub.dev/google/universal-sentence-encoder/4\",\n",
    "                                        input_shape=[],\n",
    "                                        dtype=tf.string,\n",
    "                                        trainable=True)\n",
    "tf.random.set_seed(42)\n",
    "model_9 = tf.keras.Sequential([\n",
    "    sentence_encoder_layer,\n",
    "    layers.Dense(128, activation=\"relu\"),\n",
    "    layers.Dense(1, activation=\"sigmoid\")\n",
    "], name=\"model_6\")\n",
    "\n",
    "model_9.compile(\n",
    "    loss=\"binary_crossentropy\",\n",
    "    optimizer=tf.keras.optimizers.Adam(learning_rate=10**-4/2),\n",
    "#    optimizer=tf.keras.optimizers.Adam(),\n",
    "    metrics=[\"accuracy\"]\n",
    ")\n",
    "\n",
    "model_9_history = model_9.fit(\n",
    "    train_data_all,\n",
    "    train_labels_all,\n",
    "    epochs=5\n",
    ")"
   ]
  },
  {
   "cell_type": "markdown",
   "id": "529c3fa9-7752-4cc0-b4c5-8aea318805ce",
   "metadata": {},
   "source": [
    "### Do the predictions"
   ]
  },
  {
   "cell_type": "code",
   "execution_count": 15,
   "id": "e60a5753-cf77-4f41-b9cd-ca0d05d503f6",
   "metadata": {},
   "outputs": [],
   "source": [
    "import pandas as pd"
   ]
  },
  {
   "cell_type": "code",
   "execution_count": 16,
   "id": "31a4e5c6-ba85-4857-ae1b-20e8d1418ffd",
   "metadata": {},
   "outputs": [
    {
     "data": {
      "text/html": [
       "<div>\n",
       "<style scoped>\n",
       "    .dataframe tbody tr th:only-of-type {\n",
       "        vertical-align: middle;\n",
       "    }\n",
       "\n",
       "    .dataframe tbody tr th {\n",
       "        vertical-align: top;\n",
       "    }\n",
       "\n",
       "    .dataframe thead th {\n",
       "        text-align: right;\n",
       "    }\n",
       "</style>\n",
       "<table border=\"1\" class=\"dataframe\">\n",
       "  <thead>\n",
       "    <tr style=\"text-align: right;\">\n",
       "      <th></th>\n",
       "      <th>id</th>\n",
       "      <th>keyword</th>\n",
       "      <th>location</th>\n",
       "      <th>text</th>\n",
       "    </tr>\n",
       "  </thead>\n",
       "  <tbody>\n",
       "    <tr>\n",
       "      <th>0</th>\n",
       "      <td>0</td>\n",
       "      <td>NaN</td>\n",
       "      <td>NaN</td>\n",
       "      <td>Just happened a terrible car crash</td>\n",
       "    </tr>\n",
       "    <tr>\n",
       "      <th>1</th>\n",
       "      <td>2</td>\n",
       "      <td>NaN</td>\n",
       "      <td>NaN</td>\n",
       "      <td>Heard about #earthquake is different cities, s...</td>\n",
       "    </tr>\n",
       "    <tr>\n",
       "      <th>2</th>\n",
       "      <td>3</td>\n",
       "      <td>NaN</td>\n",
       "      <td>NaN</td>\n",
       "      <td>there is a forest fire at spot pond, geese are...</td>\n",
       "    </tr>\n",
       "    <tr>\n",
       "      <th>3</th>\n",
       "      <td>9</td>\n",
       "      <td>NaN</td>\n",
       "      <td>NaN</td>\n",
       "      <td>Apocalypse lighting. #Spokane #wildfires</td>\n",
       "    </tr>\n",
       "    <tr>\n",
       "      <th>4</th>\n",
       "      <td>11</td>\n",
       "      <td>NaN</td>\n",
       "      <td>NaN</td>\n",
       "      <td>Typhoon Soudelor kills 28 in China and Taiwan</td>\n",
       "    </tr>\n",
       "    <tr>\n",
       "      <th>...</th>\n",
       "      <td>...</td>\n",
       "      <td>...</td>\n",
       "      <td>...</td>\n",
       "      <td>...</td>\n",
       "    </tr>\n",
       "    <tr>\n",
       "      <th>3258</th>\n",
       "      <td>10861</td>\n",
       "      <td>NaN</td>\n",
       "      <td>NaN</td>\n",
       "      <td>EARTHQUAKE SAFETY LOS ANGELES ÛÒ SAFETY FASTE...</td>\n",
       "    </tr>\n",
       "    <tr>\n",
       "      <th>3259</th>\n",
       "      <td>10865</td>\n",
       "      <td>NaN</td>\n",
       "      <td>NaN</td>\n",
       "      <td>Storm in RI worse than last hurricane. My city...</td>\n",
       "    </tr>\n",
       "    <tr>\n",
       "      <th>3260</th>\n",
       "      <td>10868</td>\n",
       "      <td>NaN</td>\n",
       "      <td>NaN</td>\n",
       "      <td>Green Line derailment in Chicago http://t.co/U...</td>\n",
       "    </tr>\n",
       "    <tr>\n",
       "      <th>3261</th>\n",
       "      <td>10874</td>\n",
       "      <td>NaN</td>\n",
       "      <td>NaN</td>\n",
       "      <td>MEG issues Hazardous Weather Outlook (HWO) htt...</td>\n",
       "    </tr>\n",
       "    <tr>\n",
       "      <th>3262</th>\n",
       "      <td>10875</td>\n",
       "      <td>NaN</td>\n",
       "      <td>NaN</td>\n",
       "      <td>#CityofCalgary has activated its Municipal Eme...</td>\n",
       "    </tr>\n",
       "  </tbody>\n",
       "</table>\n",
       "<p>3263 rows × 4 columns</p>\n",
       "</div>"
      ],
      "text/plain": [
       "         id keyword location  \\\n",
       "0         0     NaN      NaN   \n",
       "1         2     NaN      NaN   \n",
       "2         3     NaN      NaN   \n",
       "3         9     NaN      NaN   \n",
       "4        11     NaN      NaN   \n",
       "...     ...     ...      ...   \n",
       "3258  10861     NaN      NaN   \n",
       "3259  10865     NaN      NaN   \n",
       "3260  10868     NaN      NaN   \n",
       "3261  10874     NaN      NaN   \n",
       "3262  10875     NaN      NaN   \n",
       "\n",
       "                                                   text  \n",
       "0                    Just happened a terrible car crash  \n",
       "1     Heard about #earthquake is different cities, s...  \n",
       "2     there is a forest fire at spot pond, geese are...  \n",
       "3              Apocalypse lighting. #Spokane #wildfires  \n",
       "4         Typhoon Soudelor kills 28 in China and Taiwan  \n",
       "...                                                 ...  \n",
       "3258  EARTHQUAKE SAFETY LOS ANGELES ÛÒ SAFETY FASTE...  \n",
       "3259  Storm in RI worse than last hurricane. My city...  \n",
       "3260  Green Line derailment in Chicago http://t.co/U...  \n",
       "3261  MEG issues Hazardous Weather Outlook (HWO) htt...  \n",
       "3262  #CityofCalgary has activated its Municipal Eme...  \n",
       "\n",
       "[3263 rows x 4 columns]"
      ]
     },
     "execution_count": 16,
     "metadata": {},
     "output_type": "execute_result"
    }
   ],
   "source": [
    "test_df = pd.read_csv(\"test.csv\")\n",
    "test_df"
   ]
  },
  {
   "cell_type": "code",
   "execution_count": 17,
   "id": "9486acf0-6f7c-4556-826e-51810b7b9e7e",
   "metadata": {},
   "outputs": [
    {
     "data": {
      "text/plain": [
       "(0           0\n",
       " 1           2\n",
       " 2           3\n",
       " 3           9\n",
       " 4          11\n",
       "         ...  \n",
       " 3258    10861\n",
       " 3259    10865\n",
       " 3260    10868\n",
       " 3261    10874\n",
       " 3262    10875\n",
       " Name: id, Length: 3263, dtype: int64,\n",
       " 0                      Just happened a terrible car crash\n",
       " 1       Heard about #earthquake is different cities, s...\n",
       " 2       there is a forest fire at spot pond, geese are...\n",
       " 3                Apocalypse lighting. #Spokane #wildfires\n",
       " 4           Typhoon Soudelor kills 28 in China and Taiwan\n",
       "                               ...                        \n",
       " 3258    EARTHQUAKE SAFETY LOS ANGELES ÛÒ SAFETY FASTE...\n",
       " 3259    Storm in RI worse than last hurricane. My city...\n",
       " 3260    Green Line derailment in Chicago http://t.co/U...\n",
       " 3261    MEG issues Hazardous Weather Outlook (HWO) htt...\n",
       " 3262    #CityofCalgary has activated its Municipal Eme...\n",
       " Name: text, Length: 3263, dtype: object)"
      ]
     },
     "execution_count": 17,
     "metadata": {},
     "output_type": "execute_result"
    }
   ],
   "source": [
    "ids = test_df[\"id\"]\n",
    "texts = test_df[\"text\"]\n",
    "ids, texts"
   ]
  },
  {
   "cell_type": "code",
   "execution_count": 30,
   "id": "3b2b9c4f-02d8-42f0-ba7e-4ac9d13b2df5",
   "metadata": {},
   "outputs": [
    {
     "name": "stdout",
     "output_type": "stream",
     "text": [
      "102/102 [==============================] - 0s 3ms/step\n"
     ]
    },
    {
     "data": {
      "text/html": [
       "<div>\n",
       "<style scoped>\n",
       "    .dataframe tbody tr th:only-of-type {\n",
       "        vertical-align: middle;\n",
       "    }\n",
       "\n",
       "    .dataframe tbody tr th {\n",
       "        vertical-align: top;\n",
       "    }\n",
       "\n",
       "    .dataframe thead th {\n",
       "        text-align: right;\n",
       "    }\n",
       "</style>\n",
       "<table border=\"1\" class=\"dataframe\">\n",
       "  <thead>\n",
       "    <tr style=\"text-align: right;\">\n",
       "      <th></th>\n",
       "      <th>id</th>\n",
       "      <th>target</th>\n",
       "    </tr>\n",
       "  </thead>\n",
       "  <tbody>\n",
       "    <tr>\n",
       "      <th>0</th>\n",
       "      <td>0</td>\n",
       "      <td>1</td>\n",
       "    </tr>\n",
       "    <tr>\n",
       "      <th>1</th>\n",
       "      <td>2</td>\n",
       "      <td>1</td>\n",
       "    </tr>\n",
       "    <tr>\n",
       "      <th>2</th>\n",
       "      <td>3</td>\n",
       "      <td>1</td>\n",
       "    </tr>\n",
       "    <tr>\n",
       "      <th>3</th>\n",
       "      <td>9</td>\n",
       "      <td>1</td>\n",
       "    </tr>\n",
       "    <tr>\n",
       "      <th>4</th>\n",
       "      <td>11</td>\n",
       "      <td>1</td>\n",
       "    </tr>\n",
       "    <tr>\n",
       "      <th>...</th>\n",
       "      <td>...</td>\n",
       "      <td>...</td>\n",
       "    </tr>\n",
       "    <tr>\n",
       "      <th>3258</th>\n",
       "      <td>10861</td>\n",
       "      <td>1</td>\n",
       "    </tr>\n",
       "    <tr>\n",
       "      <th>3259</th>\n",
       "      <td>10865</td>\n",
       "      <td>1</td>\n",
       "    </tr>\n",
       "    <tr>\n",
       "      <th>3260</th>\n",
       "      <td>10868</td>\n",
       "      <td>1</td>\n",
       "    </tr>\n",
       "    <tr>\n",
       "      <th>3261</th>\n",
       "      <td>10874</td>\n",
       "      <td>1</td>\n",
       "    </tr>\n",
       "    <tr>\n",
       "      <th>3262</th>\n",
       "      <td>10875</td>\n",
       "      <td>1</td>\n",
       "    </tr>\n",
       "  </tbody>\n",
       "</table>\n",
       "<p>3263 rows × 2 columns</p>\n",
       "</div>"
      ],
      "text/plain": [
       "         id  target\n",
       "0         0       1\n",
       "1         2       1\n",
       "2         3       1\n",
       "3         9       1\n",
       "4        11       1\n",
       "...     ...     ...\n",
       "3258  10861       1\n",
       "3259  10865       1\n",
       "3260  10868       1\n",
       "3261  10874       1\n",
       "3262  10875       1\n",
       "\n",
       "[3263 rows x 2 columns]"
      ]
     },
     "execution_count": 30,
     "metadata": {},
     "output_type": "execute_result"
    }
   ],
   "source": [
    "model_9_preds = tf.cast(tf.squeeze(tf.round(model_9.predict(texts))), dtype=tf.int32)\n",
    "model_9_df = pd.DataFrame({\n",
    "    \"id\": ids,\n",
    "    \"target\": model_9_preds\n",
    "})\n",
    "model_9_df"
   ]
  },
  {
   "cell_type": "code",
   "execution_count": 31,
   "id": "6606c683-7b12-41fd-a5bb-d1d1ae451a11",
   "metadata": {},
   "outputs": [],
   "source": [
    "!rm submission.csv\n",
    "model_9_df.to_csv(\"submission.csv\", index=False)"
   ]
  },
  {
   "cell_type": "markdown",
   "id": "b8e217ec-8dc4-40b5-a1ff-75cb3078bf82",
   "metadata": {},
   "source": [
    "## 5. Combine the ensemble predictions using the majority vote (mode), how does this perform compare to averaging the prediction probabilities of each model?"
   ]
  },
  {
   "cell_type": "markdown",
   "id": "72310e0d-d17a-44f4-b105-393dd4a79eb1",
   "metadata": {},
   "source": [
    "### Create missing models"
   ]
  },
  {
   "cell_type": "code",
   "execution_count": 54,
   "id": "ae72eba7-d625-40dc-b0db-696d5bc3eb2f",
   "metadata": {},
   "outputs": [
    {
     "name": "stdout",
     "output_type": "stream",
     "text": [
      "Epoch 1/5\n",
      "215/215 [==============================] - 9s 29ms/step - loss: 0.1460 - accuracy: 0.9402 - val_loss: 0.7223 - val_accuracy: 0.7703\n",
      "Epoch 2/5\n",
      "215/215 [==============================] - 1s 5ms/step - loss: 0.0735 - accuracy: 0.9727 - val_loss: 0.8482 - val_accuracy: 0.7756\n",
      "Epoch 3/5\n",
      "215/215 [==============================] - 1s 5ms/step - loss: 0.0624 - accuracy: 0.9762 - val_loss: 1.0866 - val_accuracy: 0.7756\n",
      "Epoch 4/5\n",
      "215/215 [==============================] - 1s 4ms/step - loss: 0.0589 - accuracy: 0.9777 - val_loss: 1.0599 - val_accuracy: 0.7690\n",
      "Epoch 5/5\n",
      "215/215 [==============================] - 1s 4ms/step - loss: 0.0476 - accuracy: 0.9785 - val_loss: 1.1426 - val_accuracy: 0.7677\n",
      "Epoch 1/5\n",
      "215/215 [==============================] - 11s 31ms/step - loss: 0.1013 - accuracy: 0.9711 - val_loss: 0.9907 - val_accuracy: 0.7664\n",
      "Epoch 2/5\n",
      "215/215 [==============================] - 1s 6ms/step - loss: 0.0505 - accuracy: 0.9772 - val_loss: 1.2232 - val_accuracy: 0.7664\n",
      "Epoch 3/5\n",
      "215/215 [==============================] - 1s 6ms/step - loss: 0.0430 - accuracy: 0.9801 - val_loss: 1.4138 - val_accuracy: 0.7625\n",
      "Epoch 4/5\n",
      "215/215 [==============================] - 1s 4ms/step - loss: 0.0411 - accuracy: 0.9806 - val_loss: 1.2987 - val_accuracy: 0.7638\n",
      "Epoch 5/5\n",
      "215/215 [==============================] - 1s 5ms/step - loss: 0.0379 - accuracy: 0.9822 - val_loss: 1.7050 - val_accuracy: 0.7598\n",
      "Epoch 1/5\n",
      "215/215 [==============================] - 108s 389ms/step - loss: 0.3542 - accuracy: 0.8562 - val_loss: 0.3569 - val_accuracy: 0.8556\n",
      "Epoch 2/5\n",
      "215/215 [==============================] - 21s 98ms/step - loss: 0.1492 - accuracy: 0.9464 - val_loss: 0.4375 - val_accuracy: 0.8465\n",
      "Epoch 3/5\n",
      "215/215 [==============================] - 19s 90ms/step - loss: 0.0558 - accuracy: 0.9801 - val_loss: 0.4376 - val_accuracy: 0.8556\n",
      "Epoch 4/5\n",
      "215/215 [==============================] - 18s 84ms/step - loss: 0.0376 - accuracy: 0.9869 - val_loss: 0.5107 - val_accuracy: 0.8333\n",
      "Epoch 5/5\n",
      "215/215 [==============================] - 17s 79ms/step - loss: 0.0240 - accuracy: 0.9898 - val_loss: 0.5077 - val_accuracy: 0.8543\n"
     ]
    },
    {
     "data": {
      "text/plain": [
       "<keras.src.callbacks.History at 0x7998a9d76800>"
      ]
     },
     "execution_count": 54,
     "metadata": {},
     "output_type": "execute_result"
    }
   ],
   "source": [
    "inputs = layers.Input(shape=(1,), dtype=\"string\")\n",
    "x = text_vectorizer(inputs)\n",
    "x = embeddings(x)\n",
    "x = layers.GRU(64)(x)\n",
    "outputs = layers.Dense(1, activation=\"sigmoid\")(x)\n",
    "model_3 = tf.keras.Model(inputs, outputs, name=\"model_3\")\n",
    "model_3.compile(\n",
    "    loss=\"binary_crossentropy\",\n",
    "    optimizer=tf.keras.optimizers.Adam(),\n",
    "    metrics=[\"accuracy\"]\n",
    ")\n",
    "model_3.fit(\n",
    "    train_data,\n",
    "    train_labels,\n",
    "    epochs=5,\n",
    "    validation_data=(val_data, val_labels)\n",
    ")\n",
    "inputs = layers.Input(shape=(1,), dtype=\"string\")\n",
    "x = text_vectorizer(inputs)\n",
    "x = embeddings(x)\n",
    "x = layers.Bidirectional(layers.LSTM(64))(x)\n",
    "outputs = layers.Dense(1, activation=\"sigmoid\")(x)\n",
    "model_4 = tf.keras.Model(inputs, outputs)\n",
    "model_4.compile(\n",
    "    loss=\"binary_crossentropy\",\n",
    "    optimizer=tf.keras.optimizers.Adam(),\n",
    "    metrics=[\"accuracy\"]\n",
    ")\n",
    "model_4.fit(\n",
    "    train_data,\n",
    "    train_labels,\n",
    "    epochs=5,\n",
    "    validation_data=(val_data, val_labels)\n",
    ")\n",
    "model_6 = tf.keras.Sequential([\n",
    "    sentence_encoder_layer,\n",
    "    layers.Dense(128, activation=\"relu\"),\n",
    "    layers.Dense(1, activation=\"sigmoid\")\n",
    "], name=\"model_6\")\n",
    "\n",
    "model_6.compile(\n",
    "    loss=\"binary_crossentropy\",\n",
    "    optimizer=tf.keras.optimizers.Adam(),\n",
    "    metrics=[\"accuracy\"]\n",
    ")\n",
    "model_6.fit(\n",
    "    train_data,\n",
    "    train_labels,\n",
    "    epochs=5,\n",
    "    validation_data=(val_data, val_labels)\n",
    ")"
   ]
  },
  {
   "cell_type": "code",
   "execution_count": 55,
   "id": "a98f2043-0ce8-4d93-826c-47624bfff8eb",
   "metadata": {},
   "outputs": [
    {
     "name": "stdout",
     "output_type": "stream",
     "text": [
      "24/24 [==============================] - 0s 747us/step\n",
      "24/24 [==============================] - 0s 1ms/step\n",
      "24/24 [==============================] - 0s 1ms/step\n",
      "24/24 [==============================] - 1s 1ms/step\n",
      "24/24 [==============================] - 0s 883us/step\n",
      "24/24 [==============================] - 0s 3ms/step\n",
      "24/24 [==============================] - 0s 3ms/step\n"
     ]
    }
   ],
   "source": [
    "# models 1, 2, 5, 8\n",
    "model_1_preds = tf.squeeze(model_1.predict(val_data))\n",
    "model_2_preds = tf.squeeze(model_2.predict(val_data))\n",
    "model_3_preds = tf.squeeze(model_3.predict(val_data))\n",
    "model_4_preds = tf.squeeze(model_4.predict(val_data))\n",
    "model_5_preds = tf.squeeze(model_5.predict(val_data))\n",
    "model_6_preds = tf.squeeze(model_6.predict(val_data))\n",
    "model_8_preds = tf.squeeze(model_8.predict(val_data))\n",
    "models_preds = tf.round((\n",
    "    model_1_preds+\n",
    "    model_2_preds+\n",
    "    model_3_preds+\n",
    "    model_4_preds+\n",
    "    model_5_preds+\n",
    "    model_6_preds+\n",
    "    model_8_preds)/7)\n",
    "models_preds_vote = tf.round((\n",
    "    tf.round(model_1_preds)+\n",
    "    tf.round(model_2_preds)+\n",
    "    tf.round(model_3_preds)+\n",
    "    tf.round(model_4_preds)+\n",
    "    tf.round(model_5_preds)+\n",
    "    tf.round(model_6_preds)+\n",
    "    tf.round(model_8_preds))/7)\n"
   ]
  },
  {
   "cell_type": "code",
   "execution_count": 56,
   "id": "5d6442ce-5684-4238-b1f4-75a8841927f0",
   "metadata": {},
   "outputs": [],
   "source": [
    "from sklearn.metrics import accuracy_score, precision_recall_fscore_support\n",
    "\n",
    "def calculate_results(y_true, y_pred=val_labels):\n",
    "    # Calculate model accuracy\n",
    "    model_accuracy = accuracy_score(y_true, y_pred) * 100\n",
    "    # Calculate model precision, recall and f1-score\n",
    "    model_precision, model_recall, model_f1, _ = precision_recall_fscore_support(y_true, y_pred, average=\"weighted\")\n",
    "    model_results = {\n",
    "        \"accuracy\": model_accuracy,\n",
    "        \"precision\": model_precision,\n",
    "        \"recall\": model_recall,\n",
    "        \"f1\": model_f1\n",
    "    }\n",
    "    return model_results"
   ]
  },
  {
   "cell_type": "code",
   "execution_count": 57,
   "id": "62ab067b-0580-4585-b258-e642bde55df0",
   "metadata": {},
   "outputs": [
    {
     "data": {
      "text/plain": [
       "({'accuracy': 76.9028871391076,\n",
       "  'precision': 0.7754311820467719,\n",
       "  'recall': 0.7690288713910761,\n",
       "  'f1': 0.7705161854768154},\n",
       " {'accuracy': 75.59055118110236,\n",
       "  'precision': 0.7570761863162907,\n",
       "  'recall': 0.7559055118110236,\n",
       "  'f1': 0.7563031594734869},\n",
       " {'accuracy': 75.19685039370079,\n",
       "  'precision': 0.753937281140707,\n",
       "  'recall': 0.7519685039370079,\n",
       "  'f1': 0.7525784723746596},\n",
       " {'accuracy': 83.59580052493439,\n",
       "  'precision': 0.8386580987721363,\n",
       "  'recall': 0.8359580052493438,\n",
       "  'f1': 0.8365443165433805},\n",
       " {'accuracy': 77.42782152230971,\n",
       "  'precision': 0.7779685179282625,\n",
       "  'recall': 0.7742782152230971,\n",
       "  'f1': 0.7752218457400435},\n",
       " {'accuracy': 76.50918635170603,\n",
       "  'precision': 0.767752278716285,\n",
       "  'recall': 0.7650918635170604,\n",
       "  'f1': 0.7658407657817803})"
      ]
     },
     "execution_count": 57,
     "metadata": {},
     "output_type": "execute_result"
    }
   ],
   "source": [
    "calculate_results(tf.round(model_1_preds)), calculate_results(tf.round(model_2_preds)), calculate_results(tf.round(model_5_preds)), calculate_results(tf.round(model_8_preds)), calculate_results(models_preds), calculate_results(models_preds_vote)"
   ]
  },
  {
   "cell_type": "markdown",
   "id": "a4cab6ea-b9f6-458b-9926-d2f6b3b14aa5",
   "metadata": {},
   "source": [
    "## 6. Make a confusion matrix with the best performing model's predictions on the validation set and the validation ground truth labels."
   ]
  },
  {
   "cell_type": "code",
   "execution_count": 66,
   "id": "47ec59c9-1d35-4880-a012-729785244559",
   "metadata": {},
   "outputs": [
    {
     "data": {
      "text/plain": [
       "<sklearn.metrics._plot.confusion_matrix.ConfusionMatrixDisplay at 0x79971b89b910>"
      ]
     },
     "execution_count": 66,
     "metadata": {},
     "output_type": "execute_result"
    },
    {
     "data": {
      "image/png": "[encoded data removed]",
      "text/plain": [
       "<Figure size 640x480 with 2 Axes>"
      ]
     },
     "metadata": {},
     "output_type": "display_data"
    }
   ],
   "source": [
    "from sklearn.metrics import confusion_matrix, ConfusionMatrixDisplay\n",
    "ConfusionMatrixDisplay(confusion_matrix(tf.round(model_8_preds), val_labels)).plot(cmap=\"BuGn\")"
   ]
  },
  {
   "cell_type": "code",
   "execution_count": 67,
   "id": "036c6886-609e-4ec2-aae1-3867c42eb85a",
   "metadata": {},
   "outputs": [],
   "source": [
    "!rm sample_submission.csv\n",
    "!rm submission.csv\n",
    "!rm test.csv\n",
    "!rm train.csv"
   ]
  },
  {
   "cell_type": "code",
   "execution_count": null,
   "id": "76b8970e-2100-4234-84e1-1a9dc81e86da",
   "metadata": {},
   "outputs": [],
   "source": []
  }
 ],
 "metadata": {
  "kernelspec": {
   "display_name": "Python 3 (ipykernel)",
   "language": "python",
   "name": "python3"
  },
  "language_info": {
   "codemirror_mode": {
    "name": "ipython",
    "version": 3
   },
   "file_extension": ".py",
   "mimetype": "text/x-python",
   "name": "python",
   "nbconvert_exporter": "python",
   "pygments_lexer": "ipython3",
   "version": "3.10.12"
  }
 },
 "nbformat": 4,
 "nbformat_minor": 5
}
