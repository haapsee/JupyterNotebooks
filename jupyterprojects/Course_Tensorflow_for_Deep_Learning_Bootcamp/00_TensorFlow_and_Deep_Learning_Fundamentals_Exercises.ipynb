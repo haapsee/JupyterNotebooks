{
 "cells": [
  {
   "cell_type": "code",
   "execution_count": 6,
   "id": "2ddd618d-1933-4f74-959b-f209995d0b8d",
   "metadata": {},
   "outputs": [
    {
     "data": {
      "text/plain": [
       "'2.17.0'"
      ]
     },
     "execution_count": 6,
     "metadata": {},
     "output_type": "execute_result"
    }
   ],
   "source": [
    "import tensorflow as tf\n",
    "\n",
    "tf.__version__"
   ]
  },
  {
   "cell_type": "markdown",
   "id": "7f5ac0ed-184b-40d7-8995-61ccecb5d43d",
   "metadata": {},
   "source": [
    "# 00. TensorFlow Fundamentals Exercises\n",
    "1. Create a vector, scalar, matrix and tensor with values of your choosing using tf.constant().\n",
    "2. Find the shape, rank and size of the tensors you created in 1.\n",
    "3. Create two tensors containing random values between 0 and 1 with shape [5, 300].\n",
    "4. Multiply the two tensors you created in 3 using matrix multiplication.\n",
    "5. Multiply the two tensors you created in 3 using dot product.\n",
    "6. Create a tensor with random values between 0 and 1 with shape [224, 224, 3].\n",
    "7. Find the min and max values of the tensor you created in 6 along the first axis.\n",
    "8. Created a tensor with random values of shape [1, 224, 224, 3] then squeeze it to change the shape to [224, 224, 3].\n",
    "9. Create a tensor with shape [10] using your own choice of values, then find the index which has the maximum value.\n",
    "10. One-hot encode the tensor you created in 9.*"
   ]
  },
  {
   "cell_type": "markdown",
   "id": "b9b79b94-1f02-4010-910f-5cb89803c74d",
   "metadata": {},
   "source": [
    "## 1. Create a vector, scalar, matrix and tensor with values of your choosing using tf.constant()"
   ]
  },
  {
   "cell_type": "code",
   "execution_count": 7,
   "id": "c17f0489-d2dd-46c2-b0ff-df9cf4c75f5f",
   "metadata": {},
   "outputs": [
    {
     "data": {
      "text/plain": [
       "<tf.Tensor: shape=(), dtype=int32, numpy=2>"
      ]
     },
     "execution_count": 7,
     "metadata": {},
     "output_type": "execute_result"
    }
   ],
   "source": [
    "scalar = tf.constant(2)\n",
    "scalar"
   ]
  },
  {
   "cell_type": "code",
   "execution_count": 8,
   "id": "21d9f4e5-df73-4a02-9bfb-cfcf9d314218",
   "metadata": {},
   "outputs": [
    {
     "data": {
      "text/plain": [
       "<tf.Tensor: shape=(3,), dtype=int32, numpy=array([1, 2, 3], dtype=int32)>"
      ]
     },
     "execution_count": 8,
     "metadata": {},
     "output_type": "execute_result"
    }
   ],
   "source": [
    "vector = tf.constant([1,2,3])\n",
    "vector"
   ]
  },
  {
   "cell_type": "code",
   "execution_count": 9,
   "id": "68bb5e6d-3ceb-41fd-8735-656ac3ad4418",
   "metadata": {},
   "outputs": [
    {
     "data": {
      "text/plain": [
       "<tf.Tensor: shape=(2, 3), dtype=int32, numpy=\n",
       "array([[1, 2, 3],\n",
       "       [4, 5, 6]], dtype=int32)>"
      ]
     },
     "execution_count": 9,
     "metadata": {},
     "output_type": "execute_result"
    }
   ],
   "source": [
    "matrix = tf.constant([[1,2,3], [4,5,6]])\n",
    "matrix"
   ]
  },
  {
   "cell_type": "code",
   "execution_count": 10,
   "id": "5b89e19d-8e66-47ec-9c50-8970b1be8abd",
   "metadata": {},
   "outputs": [
    {
     "data": {
      "text/plain": [
       "<tf.Tensor: shape=(2, 2, 3), dtype=int32, numpy=\n",
       "array([[[1, 2, 3],\n",
       "        [4, 5, 6]],\n",
       "\n",
       "       [[4, 5, 6],\n",
       "        [7, 8, 9]]], dtype=int32)>"
      ]
     },
     "execution_count": 10,
     "metadata": {},
     "output_type": "execute_result"
    }
   ],
   "source": [
    "tensor = tf.constant([\n",
    "    [\n",
    "        [1,2,3],\n",
    "        [4,5,6],\n",
    "    ], [\n",
    "        [4,5,6],\n",
    "        [7,8,9],\n",
    "    ]\n",
    "])\n",
    "tensor"
   ]
  },
  {
   "cell_type": "markdown",
   "id": "16db9b28-2c69-4bbe-af11-e39612b68931",
   "metadata": {},
   "source": [
    "## 2. Find the shape, rank and size of the tensor you created in 1."
   ]
  },
  {
   "cell_type": "code",
   "execution_count": 14,
   "id": "1bf756f5-4b7c-45d9-ad95-a6a7e7a1bf0a",
   "metadata": {},
   "outputs": [
    {
     "data": {
      "text/plain": [
       "(TensorShape([]),\n",
       " <tf.Tensor: shape=(), dtype=int32, numpy=0>,\n",
       " <tf.Tensor: shape=(), dtype=int32, numpy=1>)"
      ]
     },
     "execution_count": 14,
     "metadata": {},
     "output_type": "execute_result"
    }
   ],
   "source": [
    "scalar.shape, tf.rank(scalar), tf.size(scalar)"
   ]
  },
  {
   "cell_type": "code",
   "execution_count": 15,
   "id": "5693b166-573e-4854-870d-870b996dfeff",
   "metadata": {},
   "outputs": [
    {
     "data": {
      "text/plain": [
       "(TensorShape([3]),\n",
       " <tf.Tensor: shape=(), dtype=int32, numpy=1>,\n",
       " <tf.Tensor: shape=(), dtype=int32, numpy=3>)"
      ]
     },
     "execution_count": 15,
     "metadata": {},
     "output_type": "execute_result"
    }
   ],
   "source": [
    "vector.shape, tf.rank(vector), tf.size(vector)"
   ]
  },
  {
   "cell_type": "code",
   "execution_count": 16,
   "id": "00670f48-25a7-4e5d-87f6-2f72f4f07a0c",
   "metadata": {},
   "outputs": [
    {
     "data": {
      "text/plain": [
       "(TensorShape([2, 3]),\n",
       " <tf.Tensor: shape=(), dtype=int32, numpy=2>,\n",
       " <tf.Tensor: shape=(), dtype=int32, numpy=6>)"
      ]
     },
     "execution_count": 16,
     "metadata": {},
     "output_type": "execute_result"
    }
   ],
   "source": [
    "matrix.shape, tf.rank(matrix), tf.size(matrix)"
   ]
  },
  {
   "cell_type": "code",
   "execution_count": 18,
   "id": "7313ba5b-8635-4c45-b0ec-b37bfb694f32",
   "metadata": {},
   "outputs": [
    {
     "data": {
      "text/plain": [
       "(TensorShape([2, 2, 3]),\n",
       " <tf.Tensor: shape=(), dtype=int32, numpy=3>,\n",
       " <tf.Tensor: shape=(), dtype=int32, numpy=12>)"
      ]
     },
     "execution_count": 18,
     "metadata": {},
     "output_type": "execute_result"
    }
   ],
   "source": [
    "tensor.shape, tf.rank(tensor), tf.size(tensor)"
   ]
  },
  {
   "cell_type": "markdown",
   "id": "2e37a531-2b6b-45aa-bb4a-eacd45267ef1",
   "metadata": {},
   "source": [
    "## 3. Create two tensors containing random values between 0 an 1 with shape [5, 300]."
   ]
  },
  {
   "cell_type": "code",
   "execution_count": 19,
   "id": "8d0b9ed2-518f-4b9b-b8d4-18fc1c987ef4",
   "metadata": {},
   "outputs": [
    {
     "data": {
      "text/plain": [
       "(<tf.Tensor: shape=(5, 300), dtype=float16, numpy=\n",
       " array([[0.3525 , 0.2207 , 0.5645 , ..., 0.09863, 0.617  , 0.1807 ],\n",
       "        [0.2471 , 0.5117 , 0.1895 , ..., 0.835  , 0.95   , 0.288  ],\n",
       "        [0.1475 , 0.4238 , 0.0928 , ..., 0.704  , 0.992  , 0.6143 ],\n",
       "        [0.7246 , 0.547  , 0.9766 , ..., 0.1602 , 0.548  , 0.5195 ],\n",
       "        [0.925  , 0.9033 , 0.1279 , ..., 0.874  , 0.9434 , 0.8896 ]],\n",
       "       dtype=float16)>,\n",
       " <tf.Tensor: shape=(5, 300), dtype=float16, numpy=\n",
       " array([[0.2734 , 0.672  , 0.4932 , ..., 0.376  , 0.9717 , 0.4805 ],\n",
       "        [0.579  , 0.9707 , 0.8887 , ..., 0.1875 , 0.083  , 0.6475 ],\n",
       "        [0.868  , 0.4473 , 0.207  , ..., 0.2588 , 0.0762 , 0.508  ],\n",
       "        [0.703  , 0.454  , 0.04883, ..., 0.2617 , 0.4258 , 0.334  ],\n",
       "        [0.0713 , 0.9688 , 0.6855 , ..., 0.462  , 0.993  , 0.06445]],\n",
       "       dtype=float16)>)"
      ]
     },
     "execution_count": 19,
     "metadata": {},
     "output_type": "execute_result"
    }
   ],
   "source": [
    "tf.random.set_seed(42)\n",
    "random_tensor_1 = tf.random.uniform((5, 300), minval=0, maxval=1, dtype=tf.float16, seed=42)\n",
    "random_tensor_2 = tf.random.uniform((5, 300), minval=0, maxval=1, dtype=tf.float16, seed=42)\n",
    "(random_tensor_1, random_tensor_2)"
   ]
  },
  {
   "cell_type": "markdown",
   "id": "5a6ac7ca-8054-4657-be46-21db61eab56b",
   "metadata": {},
   "source": [
    "## 4. Multiply the two tensors you created in 3 using matrix multiplication"
   ]
  },
  {
   "cell_type": "code",
   "execution_count": 27,
   "id": "66a293b1-28c7-47b1-84e8-833accbb8ae8",
   "metadata": {},
   "outputs": [
    {
     "data": {
      "text/plain": [
       "<tf.Tensor: shape=(5, 5), dtype=float16, numpy=\n",
       "array([[80.8 , 74.6 , 76.1 , 72.75, 73.44],\n",
       "       [87.2 , 76.94, 79.9 , 72.1 , 83.06],\n",
       "       [79.  , 72.75, 75.5 , 70.8 , 76.44],\n",
       "       [80.06, 74.2 , 72.25, 73.44, 75.2 ],\n",
       "       [82.6 , 78.8 , 79.2 , 73.94, 79.1 ]], dtype=float16)>"
      ]
     },
     "execution_count": 27,
     "metadata": {},
     "output_type": "execute_result"
    }
   ],
   "source": [
    "tf.linalg.matmul(random_tensor_1, tf.transpose(random_tensor_2))"
   ]
  },
  {
   "cell_type": "markdown",
   "id": "de195921-faa2-450d-9ffc-7246d94471e1",
   "metadata": {},
   "source": [
    "## 5. Multiply the two tensors you created in 3 using dot product"
   ]
  },
  {
   "cell_type": "code",
   "execution_count": 25,
   "id": "bc31d68c-27de-4f07-90f8-d1cc27e66982",
   "metadata": {},
   "outputs": [
    {
     "data": {
      "text/plain": [
       "<tf.Tensor: shape=(5, 5), dtype=float16, numpy=\n",
       "array([[80.8 , 74.6 , 76.1 , 72.75, 73.44],\n",
       "       [87.2 , 76.94, 79.9 , 72.1 , 83.06],\n",
       "       [79.  , 72.75, 75.5 , 70.8 , 76.44],\n",
       "       [80.06, 74.2 , 72.25, 73.44, 75.2 ],\n",
       "       [82.6 , 78.8 , 79.2 , 73.94, 79.1 ]], dtype=float16)>"
      ]
     },
     "execution_count": 25,
     "metadata": {},
     "output_type": "execute_result"
    }
   ],
   "source": [
    "tf.tensordot(random_tensor_1, tf.transpose(random_tensor_2), axes=1)"
   ]
  },
  {
   "cell_type": "markdown",
   "id": "431562d9-4d37-4ab9-ba46-389ade73f289",
   "metadata": {},
   "source": [
    "## 6. Create a tensor with random values between 0 and 1 with shape [224, 224, 3]."
   ]
  },
  {
   "cell_type": "code",
   "execution_count": 22,
   "id": "a722dd4c-3330-4eba-8029-248fd420ddd9",
   "metadata": {},
   "outputs": [
    {
     "data": {
      "text/plain": [
       "<tf.Tensor: shape=(224, 224, 3), dtype=float32, numpy=\n",
       "array([[[0.6645621 , 0.44100678, 0.3528825 ],\n",
       "        [0.46448255, 0.03366041, 0.68467236],\n",
       "        [0.74011743, 0.8724445 , 0.22632635],\n",
       "        ...,\n",
       "        [0.42612267, 0.09686017, 0.16105258],\n",
       "        [0.1487099 , 0.04513884, 0.9497483 ],\n",
       "        [0.4393103 , 0.28527975, 0.96971095]],\n",
       "\n",
       "       [[0.73308516, 0.5657046 , 0.33238935],\n",
       "        [0.8838178 , 0.87544763, 0.56711245],\n",
       "        [0.8879347 , 0.47661996, 0.42041814],\n",
       "        ...,\n",
       "        [0.7716515 , 0.9116473 , 0.3229897 ],\n",
       "        [0.43050945, 0.83253574, 0.45549798],\n",
       "        [0.29816985, 0.9639522 , 0.3316357 ]],\n",
       "\n",
       "       [[0.41132426, 0.2179662 , 0.53570235],\n",
       "        [0.5112119 , 0.6484759 , 0.8894886 ],\n",
       "        [0.42459428, 0.20189774, 0.85781324],\n",
       "        ...,\n",
       "        [0.02888799, 0.3995477 , 0.11355484],\n",
       "        [0.68524575, 0.04945195, 0.17778492],\n",
       "        [0.97627187, 0.79811585, 0.9411576 ]],\n",
       "\n",
       "       ...,\n",
       "\n",
       "       [[0.9019445 , 0.27011132, 0.8090267 ],\n",
       "        [0.32395256, 0.6672456 , 0.940673  ],\n",
       "        [0.7166116 , 0.8860713 , 0.6777594 ],\n",
       "        ...,\n",
       "        [0.8318608 , 0.39227867, 0.68916583],\n",
       "        [0.1599741 , 0.46428144, 0.4656595 ],\n",
       "        [0.8619243 , 0.24755931, 0.33835268]],\n",
       "\n",
       "       [[0.47570062, 0.09377229, 0.11811328],\n",
       "        [0.0523994 , 0.38206005, 0.12188685],\n",
       "        [0.2757113 , 0.44918692, 0.9179864 ],\n",
       "        ...,\n",
       "        [0.4974177 , 0.4562863 , 0.8261535 ],\n",
       "        [0.60251105, 0.27676368, 0.258716  ],\n",
       "        [0.7977431 , 0.74125385, 0.76062095]],\n",
       "\n",
       "       [[0.4755299 , 0.4661665 , 0.14167643],\n",
       "        [0.9103775 , 0.41117966, 0.83182037],\n",
       "        [0.79765654, 0.38330686, 0.5313202 ],\n",
       "        ...,\n",
       "        [0.94517136, 0.17730081, 0.00362825],\n",
       "        [0.6170398 , 0.9977623 , 0.8315122 ],\n",
       "        [0.6683676 , 0.68716586, 0.4447713 ]]], dtype=float32)>"
      ]
     },
     "execution_count": 22,
     "metadata": {},
     "output_type": "execute_result"
    }
   ],
   "source": [
    "tf.random.set_seed(42)\n",
    "random_tensor = tf.random.uniform((224, 224, 3), minval=0, maxval=1, dtype=tf.float32)\n",
    "random_tensor"
   ]
  },
  {
   "cell_type": "markdown",
   "id": "78533539-a483-45e0-b85b-b89c899ab836",
   "metadata": {},
   "source": [
    "## 7. Find the min and max values of the tensor you created in 6 along the first axis"
   ]
  },
  {
   "cell_type": "code",
   "execution_count": 23,
   "id": "a91bd778-8595-4911-abd1-7f7de6e061a1",
   "metadata": {},
   "outputs": [
    {
     "data": {
      "text/plain": [
       "(<tf.Tensor: shape=(), dtype=float32, numpy=3.5762787e-07>,\n",
       " <tf.Tensor: shape=(), dtype=float32, numpy=0.999998>)"
      ]
     },
     "execution_count": 23,
     "metadata": {},
     "output_type": "execute_result"
    }
   ],
   "source": [
    "tf.reduce_min(random_tensor), tf.reduce_max(random_tensor)"
   ]
  },
  {
   "cell_type": "markdown",
   "id": "7fb1ca79-a279-45cc-a925-d1bc92035193",
   "metadata": {},
   "source": [
    "## 8. Create a tensor with random values of shape [1, 224, 224, 3] then squeeze it to change the shape to [224, 224, 3]."
   ]
  },
  {
   "cell_type": "code",
   "execution_count": 26,
   "id": "04d62b66-27d4-43f8-b1f1-5ce6a5ff0c68",
   "metadata": {},
   "outputs": [
    {
     "data": {
      "text/plain": [
       "(<tf.Tensor: shape=(4,), dtype=int32, numpy=array([  1, 224, 224,   3], dtype=int32)>,\n",
       " <tf.Tensor: shape=(3,), dtype=int32, numpy=array([224, 224,   3], dtype=int32)>)"
      ]
     },
     "execution_count": 26,
     "metadata": {},
     "output_type": "execute_result"
    }
   ],
   "source": [
    "random_tensor = tf.random.uniform((1, 224, 224, 3), minval=0, maxval= 1)\n",
    "random_tensor_squuezed = tf.squeeze(random_tensor)\n",
    "tf.shape(random_tensor), tf.shape(random_tensor_squuezed)"
   ]
  },
  {
   "cell_type": "markdown",
   "id": "c3732835-21d7-4b68-96fe-5a577b48f71a",
   "metadata": {},
   "source": [
    "## 9. Create a tensor with shape [10] using your own choice of values, then find the index which has the maximum value."
   ]
  },
  {
   "cell_type": "code",
   "execution_count": 31,
   "id": "741543e5-8f5c-46ba-afc2-002a27d1ae3a",
   "metadata": {},
   "outputs": [
    {
     "data": {
      "text/plain": [
       "(<tf.Tensor: shape=(), dtype=int64, numpy=1>,\n",
       " <tf.Tensor: shape=(), dtype=float16, numpy=9.0>)"
      ]
     },
     "execution_count": 31,
     "metadata": {},
     "output_type": "execute_result"
    }
   ],
   "source": [
    "t = tf.constant([0,9,1,8,2,7,3,6,4,5], dtype=tf.float16)\n",
    "tf.argmax(t), t[tf.argmax(t)]"
   ]
  },
  {
   "cell_type": "markdown",
   "id": "2858b9eb-d9e5-4093-b5c3-4de277f71177",
   "metadata": {},
   "source": [
    "## 10: One-hot encode the tensor you created in 9."
   ]
  },
  {
   "cell_type": "code",
   "execution_count": 34,
   "id": "21021cfc-873d-4733-bf6e-6c220ac47bea",
   "metadata": {},
   "outputs": [
    {
     "data": {
      "text/plain": [
       "<tf.Tensor: shape=(10, 10), dtype=float32, numpy=\n",
       "array([[1., 0., 0., 0., 0., 0., 0., 0., 0., 0.],\n",
       "       [0., 0., 0., 0., 0., 0., 0., 0., 0., 1.],\n",
       "       [0., 1., 0., 0., 0., 0., 0., 0., 0., 0.],\n",
       "       [0., 0., 0., 0., 0., 0., 0., 0., 1., 0.],\n",
       "       [0., 0., 1., 0., 0., 0., 0., 0., 0., 0.],\n",
       "       [0., 0., 0., 0., 0., 0., 0., 1., 0., 0.],\n",
       "       [0., 0., 0., 1., 0., 0., 0., 0., 0., 0.],\n",
       "       [0., 0., 0., 0., 0., 0., 1., 0., 0., 0.],\n",
       "       [0., 0., 0., 0., 1., 0., 0., 0., 0., 0.],\n",
       "       [0., 0., 0., 0., 0., 1., 0., 0., 0., 0.]], dtype=float32)>"
      ]
     },
     "execution_count": 34,
     "metadata": {},
     "output_type": "execute_result"
    }
   ],
   "source": [
    "t = tf.cast(t, tf.int32)\n",
    "tf.one_hot(t, 10)"
   ]
  },
  {
   "cell_type": "code",
   "execution_count": null,
   "id": "76645cf1-9a11-41b1-84da-d65482973a6e",
   "metadata": {},
   "outputs": [],
   "source": []
  }
 ],
 "metadata": {
  "kernelspec": {
   "display_name": "Python 3 (ipykernel)",
   "language": "python",
   "name": "python3"
  },
  "language_info": {
   "codemirror_mode": {
    "name": "ipython",
    "version": 3
   },
   "file_extension": ".py",
   "mimetype": "text/x-python",
   "name": "python",
   "nbconvert_exporter": "python",
   "pygments_lexer": "ipython3",
   "version": "3.10.12"
  }
 },
 "nbformat": 4,
 "nbformat_minor": 5
}
