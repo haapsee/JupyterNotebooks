{
 "cells": [
  {
   "cell_type": "markdown",
   "id": "7f5ac0ed-184b-40d7-8995-61ccecb5d43d",
   "metadata": {},
   "source": [
    "# 00. TensorFlow Fundamentals Exercises"
   ]
  },
  {
   "cell_type": "markdown",
   "id": "b9b79b94-1f02-4010-910f-5cb89803c74d",
   "metadata": {},
   "source": [
    "## 1. Create a vector, scalar, matrix and tensor with values of your choosing using tf.constant()"
   ]
  },
  {
   "cell_type": "code",
   "execution_count": 1,
   "id": "20e53ffa-919c-4b78-9449-0ee988d83084",
   "metadata": {},
   "outputs": [
    {
     "data": {
      "text/plain": [
       "'2.17.0'"
      ]
     },
     "execution_count": 1,
     "metadata": {},
     "output_type": "execute_result"
    }
   ],
   "source": [
    "import tensorflow as tf\n",
    "\n",
    "tf.__version__"
   ]
  },
  {
   "cell_type": "code",
   "execution_count": 2,
   "id": "c17f0489-d2dd-46c2-b0ff-df9cf4c75f5f",
   "metadata": {},
   "outputs": [
    {
     "data": {
      "text/plain": [
       "<tf.Tensor: shape=(), dtype=int32, numpy=2>"
      ]
     },
     "execution_count": 2,
     "metadata": {},
     "output_type": "execute_result"
    }
   ],
   "source": [
    "scalar = tf.constant(2)\n",
    "scalar"
   ]
  },
  {
   "cell_type": "code",
   "execution_count": 3,
   "id": "21d9f4e5-df73-4a02-9bfb-cfcf9d314218",
   "metadata": {},
   "outputs": [
    {
     "data": {
      "text/plain": [
       "<tf.Tensor: shape=(3,), dtype=int32, numpy=array([1, 2, 3], dtype=int32)>"
      ]
     },
     "execution_count": 3,
     "metadata": {},
     "output_type": "execute_result"
    }
   ],
   "source": [
    "vector = tf.constant([1,2,3])\n",
    "vector"
   ]
  },
  {
   "cell_type": "code",
   "execution_count": 4,
   "id": "68bb5e6d-3ceb-41fd-8735-656ac3ad4418",
   "metadata": {},
   "outputs": [
    {
     "data": {
      "text/plain": [
       "<tf.Tensor: shape=(2, 3), dtype=int32, numpy=\n",
       "array([[1, 2, 3],\n",
       "       [4, 5, 6]], dtype=int32)>"
      ]
     },
     "execution_count": 4,
     "metadata": {},
     "output_type": "execute_result"
    }
   ],
   "source": [
    "matrix = tf.constant([[1,2,3], [4,5,6]])\n",
    "matrix"
   ]
  },
  {
   "cell_type": "code",
   "execution_count": 5,
   "id": "5b89e19d-8e66-47ec-9c50-8970b1be8abd",
   "metadata": {},
   "outputs": [
    {
     "data": {
      "text/plain": [
       "<tf.Tensor: shape=(2, 2, 3), dtype=int32, numpy=\n",
       "array([[[1, 2, 3],\n",
       "        [4, 5, 6]],\n",
       "\n",
       "       [[4, 5, 6],\n",
       "        [7, 8, 9]]], dtype=int32)>"
      ]
     },
     "execution_count": 5,
     "metadata": {},
     "output_type": "execute_result"
    }
   ],
   "source": [
    "tensor = tf.constant([\n",
    "    [\n",
    "        [1,2,3],\n",
    "        [4,5,6],\n",
    "    ], [\n",
    "        [4,5,6],\n",
    "        [7,8,9],\n",
    "    ]\n",
    "])\n",
    "tensor"
   ]
  },
  {
   "cell_type": "markdown",
   "id": "ba3c79bb-a383-4112-b84d-b1202a05bc1e",
   "metadata": {},
   "source": [
    "# 00. TensorFlow Fundamentals Exercises\n",
    "1. Create a vector, scalar, matrix and tensor with values of your choosing using tf.constant().\n",
    "2. Find the shape, rank and size of the tensors you created in 1.\n",
    "3. Create two tensors containing random values between 0 and 1 with shape [5, 300].\n",
    "4. Multiply the two tensors you created in 3 using matrix multiplication.\n",
    "5. Multiply the two tensors you created in 3 using dot product.\n",
    "6. Create a tensor with random values between 0 and 1 with shape [224, 224, 3].\n",
    "7. Find the min and max values of the tensor you created in 6 along the first axis.\n",
    "8. Created a tensor with random values of shape [1, 224, 224, 3] then squeeze it to change the shape to [224, 224, 3].\n",
    "9. Create a tensor with shape [10] using your own choice of values, then find the index which has the maximum value.\n",
    "10. One-hot encode the tensor you created in 9.*"
   ]
  },
  {
   "cell_type": "code",
   "execution_count": null,
   "id": "76645cf1-9a11-41b1-84da-d65482973a6e",
   "metadata": {},
   "outputs": [],
   "source": []
  }
 ],
 "metadata": {
  "kernelspec": {
   "display_name": "Python 3 (ipykernel)",
   "language": "python",
   "name": "python3"
  },
  "language_info": {
   "codemirror_mode": {
    "name": "ipython",
    "version": 3
   },
   "file_extension": ".py",
   "mimetype": "text/x-python",
   "name": "python",
   "nbconvert_exporter": "python",
   "pygments_lexer": "ipython3",
   "version": "3.10.12"
  }
 },
 "nbformat": 4,
 "nbformat_minor": 5
}
