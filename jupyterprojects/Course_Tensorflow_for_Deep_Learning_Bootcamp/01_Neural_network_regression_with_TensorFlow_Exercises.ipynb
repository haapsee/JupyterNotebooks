{
 "cells": [
  {
   "cell_type": "code",
   "execution_count": 1,
   "id": "2e804b3d-0360-4b41-86a5-89373a1f13f5",
   "metadata": {},
   "outputs": [
    {
     "data": {
      "text/plain": [
       "'2.17.0'"
      ]
     },
     "execution_count": 1,
     "metadata": {},
     "output_type": "execute_result"
    }
   ],
   "source": [
    "import tensorflow as tf\n",
    "tf.__version__"
   ]
  },
  {
   "cell_type": "markdown",
   "id": "0f0f47ae-f092-4dec-9c51-1ffebb4bf6e3",
   "metadata": {},
   "source": [
    "# 01. Neural network regression with TensorFlow Exercises\n",
    "\n",
    "1. Create your own regression dataset (or make the one we created in \"Create data to view and fit\" bigger) and build fit a model to it.\n",
    "2. Try building a neural network with 4 Dense layers and fitting it to your own regression dataset, how does it perform?\n",
    "3. Try and improve the results we got on the insurance dataset, some things you might want to try include:\n",
    "  * Building a larger model (how does one with 4 dense layers go?).\n",
    "  * Increasing the number of units in each layer.\n",
    "  * Lookup the documentation of [Adam](https://www.tensorflow.org/api_docs/python/tf/keras/optimizers/Adam) and find out what the first parameter is, what happens if you increase it by 10x?\n",
    "  * What happens if you train for longer (say 300 epochs instead of 200)? \n",
    "4. Import the [Boston pricing dataset](https://www.tensorflow.org/api_docs/python/tf/keras/datasets/boston_housing/load_data) from TensorFlow [`tf.keras.datasets`](https://www.tensorflow.org/api_docs/python/tf/keras/datasets) and model it."
   ]
  },
  {
   "cell_type": "markdown",
   "id": "a243e252-603e-45df-81ef-91742278994e",
   "metadata": {},
   "source": [
    "### 1. Create your own regression dataset (or make the one we created in \"Create data to view and fit\" bigger) and build fit a model to it."
   ]
  },
  {
   "cell_type": "code",
   "execution_count": null,
   "id": "1dea18ba-c283-454f-a3bd-6cf1e937c708",
   "metadata": {},
   "outputs": [],
   "source": []
  },
  {
   "cell_type": "markdown",
   "id": "c57a885b-a74a-4d29-9004-578c62e13842",
   "metadata": {},
   "source": [
    "### 2. Try building a neural network with 4 Dense layers and fitting it to your own regression dataset, how does it perform?"
   ]
  },
  {
   "cell_type": "markdown",
   "id": "d692f078-2588-4771-958f-b7b935691da0",
   "metadata": {},
   "source": [
    "### 3. Try and improve the results we got on the insurance dataset, some things you might want to try include:\n",
    "  * Building a larger model (how does one with 4 dense layers go?).\n",
    "  * Increasing the number of units in each layer.\n",
    "  * Lookup the documentation of [Adam](https://www.tensorflow.org/api_docs/python/tf/keras/optimizers/Adam) and find out what the first parameter is, what happens if you increase it by 10x?\n",
    "  * What happens if you train for longer (say 300 epochs instead of 200)? "
   ]
  },
  {
   "cell_type": "markdown",
   "id": "d89dd04c-2626-4f18-bbd0-07464636cc08",
   "metadata": {},
   "source": [
    "### 4. Import the [Boston pricing dataset](https://www.tensorflow.org/api_docs/python/tf/keras/datasets/boston_housing/load_data) from TensorFlow [`tf.keras.datasets`](https://www.tensorflow.org/api_docs/python/tf/keras/datasets) and model it."
   ]
  },
  {
   "cell_type": "markdown",
   "id": "08efe8c8-b011-4f7a-b9c0-229e1f464e18",
   "metadata": {},
   "source": [
    "### 📖 01. Neural network regression with TensorFlow Extra-curriculum\n",
    "\n",
    "* [MIT introduction deep learning lecture 1](https://www.youtube.com/watch?v=7sB052Pz0sQ&ab_channel=AlexanderAmini) - gives a great overview of what's happening behind all of the code we're running.\n",
    "* Reading: 1-hour of [Chapter 1 of Neural Networks and Deep Learning](http://neuralnetworksanddeeplearning.com/chap1.html) by Michael Nielson - a great in-depth and hands-on example of the intuition behind neural networks.\n",
    "* To practice your regression modelling with TensorFlow, I'd also encourage you to look through [Kaggle's datasets](https://www.kaggle.com/data), find a regression dataset which sparks your interest and try to model."
   ]
  },
  {
   "cell_type": "code",
   "execution_count": null,
   "id": "0c14a5c1-cd67-4e45-83e8-541aca42fb42",
   "metadata": {},
   "outputs": [],
   "source": []
  }
 ],
 "metadata": {
  "kernelspec": {
   "display_name": "Python 3 (ipykernel)",
   "language": "python",
   "name": "python3"
  },
  "language_info": {
   "codemirror_mode": {
    "name": "ipython",
    "version": 3
   },
   "file_extension": ".py",
   "mimetype": "text/x-python",
   "name": "python",
   "nbconvert_exporter": "python",
   "pygments_lexer": "ipython3",
   "version": "3.10.12"
  }
 },
 "nbformat": 4,
 "nbformat_minor": 5
}
